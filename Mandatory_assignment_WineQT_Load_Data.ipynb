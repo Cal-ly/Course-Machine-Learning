{
  "nbformat": 4,
  "nbformat_minor": 0,
  "metadata": {
    "colab": {
      "provenance": [],
      "authorship_tag": "ABX9TyOoTZG+ujRtPY5bfGMg5Rdd",
      "include_colab_link": true
    },
    "kernelspec": {
      "name": "python3",
      "display_name": "Python 3"
    },
    "language_info": {
      "name": "python"
    }
  },
  "cells": [
    {
      "cell_type": "markdown",
      "metadata": {
        "id": "view-in-github",
        "colab_type": "text"
      },
      "source": [
        "<a href=\"https://colab.research.google.com/github/jpandersen61/Machine-Learning/blob/main/Mandatory_assignment_WineQT_Load_Data.ipynb\" target=\"_parent\"><img src=\"https://colab.research.google.com/assets/colab-badge.svg\" alt=\"Open In Colab\"/></a>"
      ]
    },
    {
      "cell_type": "markdown",
      "source": [
        "### Quality classification of Vino Verde wines"
      ],
      "metadata": {
        "id": "VbjjSYTbTz-o"
      }
    },
    {
      "cell_type": "markdown",
      "source": [
        "According to Wikipedia (https://en.wikipedia.org/wiki/Vinho_Verde):\n",
        "\n",
        "*Vinho Verde  refers to Portuguese wine that originated in the historic Minho province in the far north of the country.*\n",
        "\n",
        "You are now going to devolop a model that can classify such wines from a set of features. We are interested in high quality wines. So such wines labelled as `True` ('high quality') or `False` ('not so high quality'). In our case `True` and `False` are the positive label and the negative label, respectively.\n",
        "\n"
      ],
      "metadata": {
        "id": "Ls-tzCG5UcRu"
      }
    },
    {
      "cell_type": "markdown",
      "source": [
        "### Confusion Matrix and performance measures\n"
      ],
      "metadata": {
        "id": "DJ4LZea6tXjK"
      }
    },
    {
      "cell_type": "markdown",
      "source": [
        "Now take your time to recall the confusion matrix and classification and some important related performance measures\n",
        "\n",
        "That is taking a look again on this in chapter 3 section regarding 'Confusion Matrices'\n",
        "\n",
        "Especially keep in mind the following performance concepts related to classification:\n",
        "*   **Precision** Fraction of positively predicted instances, that are correcly classified\n",
        "*   **Recall** Fraction of postive labelled instances, that classified as positive\n",
        "*   **Accuracy** Fraction of instances - positive or negative labbelled - that are coorectly classified.\n",
        "\n",
        "\n",
        "Look are the toy example code below for clarification\n",
        "\n",
        "\n",
        "Check also the following references:\n",
        "1.   Calculating matrices: https://scikit-learn.org/stable/modules/generated/sklearn.metrics.confusion_matrix.html\n",
        "2.   Displaying confusion matrices: https://scikit-learn.org/stable/modules/generated/sklearn.metrics.ConfusionMatrixDisplay.html\n",
        "\n",
        "1.   Performance measures: https://scikit-learn.org/stable/modules/model_evaluation.html\n",
        "\n",
        "\n",
        "\n",
        "\n",
        "\n",
        "\n",
        "\n",
        "\n",
        "\n",
        "\n",
        "\n"
      ],
      "metadata": {
        "id": "3QK_izbwHS7o"
      }
    },
    {
      "cell_type": "code",
      "source": [
        "#Define labels for wine quality - That is true, if the quality is high. Otherwise false (low quality)\n",
        "highQLabels=[False,True]"
      ],
      "metadata": {
        "id": "i6QegK2-KCnr"
      },
      "execution_count": 1,
      "outputs": []
    },
    {
      "cell_type": "code",
      "source": [
        "import pandas as pd\n",
        "from sklearn.metrics import confusion_matrix\n",
        "\n",
        "#Define the quality label for each wine\n",
        "y_true = [True, False, True, True, False, True, True, False, True, True, False, True, False, False, False, True, True, False, True, True]\n",
        "\n",
        "#Assume that the quality for each wine has been predicted as follows\n",
        "y_pred = [False, False, True, True, False, True,False, False, True, True, False, True, True, False, False, True, True, False, True, False]\n",
        "\n",
        "#Establish the confusion matrix\n",
        "cm=confusion_matrix(y_true, y_pred, labels=highQLabels)\n",
        "cm\n"
      ],
      "metadata": {
        "colab": {
          "base_uri": "https://localhost:8080/"
        },
        "id": "XMxuxV-ltgwZ",
        "outputId": "ec490f0e-a92c-4d03-d2d1-391e59ae13f2"
      },
      "execution_count": 2,
      "outputs": [
        {
          "output_type": "execute_result",
          "data": {
            "text/plain": [
              "array([[7, 1],\n",
              "       [3, 9]])"
            ]
          },
          "metadata": {},
          "execution_count": 2
        }
      ]
    },
    {
      "cell_type": "code",
      "source": [
        "#Display the confusion matrix\n",
        "import matplotlib.pyplot as plt\n",
        "from sklearn.metrics import ConfusionMatrixDisplay\n",
        "disp = ConfusionMatrixDisplay(cm, display_labels=highQLabels)\n",
        "disp.plot()\n",
        "plt.show()"
      ],
      "metadata": {
        "colab": {
          "base_uri": "https://localhost:8080/",
          "height": 455
        },
        "id": "QPminhFTxQvM",
        "outputId": "b8925751-ae68-4561-ff89-1737ebdff62f"
      },
      "execution_count": 3,
      "outputs": [
        {
          "output_type": "display_data",
          "data": {
            "text/plain": [
              "<Figure size 640x480 with 2 Axes>"
            ],
            "image/png": "[encoded data removed]"
          },
          "metadata": {}
        }
      ]
    },
    {
      "cell_type": "code",
      "source": [
        "#Calculate the precision score: TP/(FP+TP) = 9/(1+9) = 0.9\n",
        "from sklearn.metrics import precision_score\n",
        "precision_score(y_true, y_pred)"
      ],
      "metadata": {
        "colab": {
          "base_uri": "https://localhost:8080/"
        },
        "id": "HeniLUml7Izh",
        "outputId": "0e2e12ca-48ea-4ade-a3ca-27f6b3dddace"
      },
      "execution_count": 4,
      "outputs": [
        {
          "output_type": "execute_result",
          "data": {
            "text/plain": [
              "0.9"
            ]
          },
          "metadata": {},
          "execution_count": 4
        }
      ]
    },
    {
      "cell_type": "code",
      "source": [
        "#Calculate the recall score: TP/(FN+TP) = 9/(3+9) = 0.75\n",
        "from sklearn.metrics import recall_score\n",
        "recall_score(y_true, y_pred)"
      ],
      "metadata": {
        "colab": {
          "base_uri": "https://localhost:8080/"
        },
        "id": "Zq6a13ud7rCk",
        "outputId": "f5c590a7-496b-4c34-b8be-972b13312a7c"
      },
      "execution_count": 5,
      "outputs": [
        {
          "output_type": "execute_result",
          "data": {
            "text/plain": [
              "0.75"
            ]
          },
          "metadata": {},
          "execution_count": 5
        }
      ]
    },
    {
      "cell_type": "code",
      "source": [
        "#Calculate the accuracy score: (TN+TP)/(TN+FP+TP+FN) = (7+9)/(7+1+9+3) = 0.8\n",
        "from sklearn.metrics import accuracy_score\n",
        "accuracy_score(y_true, y_pred)"
      ],
      "metadata": {
        "colab": {
          "base_uri": "https://localhost:8080/"
        },
        "id": "ETPwSRrx8IDv",
        "outputId": "b1a74e97-d7b9-4231-cceb-dcc8c65956dc"
      },
      "execution_count": 6,
      "outputs": [
        {
          "output_type": "execute_result",
          "data": {
            "text/plain": [
              "0.8"
            ]
          },
          "metadata": {},
          "execution_count": 6
        }
      ]
    },
    {
      "cell_type": "markdown",
      "source": [
        "### Assignment 1: What does the performance measures mean?"
      ],
      "metadata": {
        "id": "6P-U21mqTxYY"
      }
    },
    {
      "cell_type": "markdown",
      "source": [
        "Explain how the precission, recall and accuracy performance measures can make sense ?\n",
        "\n",
        "What does that mean in our Portuguese wine case ?\n",
        "\n",
        "Add text cells below for your answer."
      ],
      "metadata": {
        "id": "0qTuTU4Tj0tH"
      }
    },
    {
      "cell_type": "markdown",
      "source": [
        "### Assignment 2: Importing data"
      ],
      "metadata": {
        "id": "yB4ycTVotMUh"
      }
    },
    {
      "cell_type": "markdown",
      "source": [
        "Do the following:\n",
        "1.   Place the WineQT.csv file in an appropriate folder - e.g. same folder as your Python script/notebook\n",
        "2.   Run the next 3 cells below to load the data in. The may be slightly different if you are NOT running in Colab\n",
        "\n"
      ],
      "metadata": {
        "id": "f-4MfAkGrCIF"
      }
    },
    {
      "cell_type": "code",
      "source": [
        "import pandas as pd\n",
        "from pathlib import Path\n",
        "\n",
        "from google.colab import drive"
      ],
      "metadata": {
        "id": "8nN9FXBXRzMG"
      },
      "execution_count": 7,
      "outputs": []
    },
    {
      "cell_type": "code",
      "execution_count": 8,
      "metadata": {
        "colab": {
          "base_uri": "https://localhost:8080/"
        },
        "id": "J8jVRfiUQmt0",
        "outputId": "56125dba-c72a-42ac-b925-d1027bf38606"
      },
      "outputs": [
        {
          "output_type": "stream",
          "name": "stdout",
          "text": [
            "Mounted at /content/drive\n"
          ]
        }
      ],
      "source": [
        "#Mount your Google drive\n",
        "from google.colab import drive\n",
        "drive.mount('/content/drive')"
      ]
    },
    {
      "cell_type": "code",
      "source": [
        "#Load the data for 50 start ups from the 'Colab Notebooks' on your Google drive\n",
        "dataset = pd.read_csv(\"drive/My Drive/Colab Notebooks/WineQT.csv\")\n",
        "dataset"
      ],
      "metadata": {
        "colab": {
          "base_uri": "https://localhost:8080/",
          "height": 424
        },
        "id": "M0-lWoQ6Q7cf",
        "outputId": "d3df31ac-14ae-479c-d208-b4d5586068e0"
      },
      "execution_count": 9,
      "outputs": [
        {
          "output_type": "execute_result",
          "data": {
            "text/plain": [
              "      fixed acidity  volatile acidity  citric acid  residual sugar  chlorides  \\\n",
              "0               7.4             0.700         0.00             1.9      0.076   \n",
              "1               7.8             0.880         0.00             2.6      0.098   \n",
              "2               7.8             0.760         0.04             2.3      0.092   \n",
              "3              11.2             0.280         0.56             1.9      0.075   \n",
              "4               7.4             0.700         0.00             1.9      0.076   \n",
              "...             ...               ...          ...             ...        ...   \n",
              "1138            6.3             0.510         0.13             2.3      0.076   \n",
              "1139            6.8             0.620         0.08             1.9      0.068   \n",
              "1140            6.2             0.600         0.08             2.0      0.090   \n",
              "1141            5.9             0.550         0.10             2.2      0.062   \n",
              "1142            5.9             0.645         0.12             2.0      0.075   \n",
              "\n",
              "      free sulfur dioxide  total sulfur dioxide  density    pH  sulphates  \\\n",
              "0                    11.0                  34.0  0.99780  3.51       0.56   \n",
              "1                    25.0                  67.0  0.99680  3.20       0.68   \n",
              "2                    15.0                  54.0  0.99700  3.26       0.65   \n",
              "3                    17.0                  60.0  0.99800  3.16       0.58   \n",
              "4                    11.0                  34.0  0.99780  3.51       0.56   \n",
              "...                   ...                   ...      ...   ...        ...   \n",
              "1138                 29.0                  40.0  0.99574  3.42       0.75   \n",
              "1139                 28.0                  38.0  0.99651  3.42       0.82   \n",
              "1140                 32.0                  44.0  0.99490  3.45       0.58   \n",
              "1141                 39.0                  51.0  0.99512  3.52       0.76   \n",
              "1142                 32.0                  44.0  0.99547  3.57       0.71   \n",
              "\n",
              "      alcohol  quality    Id  \n",
              "0         9.4        5     0  \n",
              "1         9.8        5     1  \n",
              "2         9.8        5     2  \n",
              "3         9.8        6     3  \n",
              "4         9.4        5     4  \n",
              "...       ...      ...   ...  \n",
              "1138     11.0        6  1592  \n",
              "1139      9.5        6  1593  \n",
              "1140     10.5        5  1594  \n",
              "1141     11.2        6  1595  \n",
              "1142     10.2        5  1597  \n",
              "\n",
              "[1143 rows x 13 columns]"
            ],
            "text/html": [
              "\n",
              "  <div id=\"df-51492617-870b-4986-87a1-b4114dd4560e\" class=\"colab-df-container\">\n",
              "    <div>\n",
              "<style scoped>\n",
              "    .dataframe tbody tr th:only-of-type {\n",
              "        vertical-align: middle;\n",
              "    }\n",
              "\n",
              "    .dataframe tbody tr th {\n",
              "        vertical-align: top;\n",
              "    }\n",
              "\n",
              "    .dataframe thead th {\n",
              "        text-align: right;\n",
              "    }\n",
              "</style>\n",
              "<table border=\"1\" class=\"dataframe\">\n",
              "  <thead>\n",
              "    <tr style=\"text-align: right;\">\n",
              "      <th></th>\n",
              "      <th>fixed acidity</th>\n",
              "      <th>volatile acidity</th>\n",
              "      <th>citric acid</th>\n",
              "      <th>residual sugar</th>\n",
              "      <th>chlorides</th>\n",
              "      <th>free sulfur dioxide</th>\n",
              "      <th>total sulfur dioxide</th>\n",
              "      <th>density</th>\n",
              "      <th>pH</th>\n",
              "      <th>sulphates</th>\n",
              "      <th>alcohol</th>\n",
              "      <th>quality</th>\n",
              "      <th>Id</th>\n",
              "    </tr>\n",
              "  </thead>\n",
              "  <tbody>\n",
              "    <tr>\n",
              "      <th>0</th>\n",
              "      <td>7.4</td>\n",
              "      <td>0.700</td>\n",
              "      <td>0.00</td>\n",
              "      <td>1.9</td>\n",
              "      <td>0.076</td>\n",
              "      <td>11.0</td>\n",
              "      <td>34.0</td>\n",
              "      <td>0.99780</td>\n",
              "      <td>3.51</td>\n",
              "      <td>0.56</td>\n",
              "      <td>9.4</td>\n",
              "      <td>5</td>\n",
              "      <td>0</td>\n",
              "    </tr>\n",
              "    <tr>\n",
              "      <th>1</th>\n",
              "      <td>7.8</td>\n",
              "      <td>0.880</td>\n",
              "      <td>0.00</td>\n",
              "      <td>2.6</td>\n",
              "      <td>0.098</td>\n",
              "      <td>25.0</td>\n",
              "      <td>67.0</td>\n",
              "      <td>0.99680</td>\n",
              "      <td>3.20</td>\n",
              "      <td>0.68</td>\n",
              "      <td>9.8</td>\n",
              "      <td>5</td>\n",
              "      <td>1</td>\n",
              "    </tr>\n",
              "    <tr>\n",
              "      <th>2</th>\n",
              "      <td>7.8</td>\n",
              "      <td>0.760</td>\n",
              "      <td>0.04</td>\n",
              "      <td>2.3</td>\n",
              "      <td>0.092</td>\n",
              "      <td>15.0</td>\n",
              "      <td>54.0</td>\n",
              "      <td>0.99700</td>\n",
              "      <td>3.26</td>\n",
              "      <td>0.65</td>\n",
              "      <td>9.8</td>\n",
              "      <td>5</td>\n",
              "      <td>2</td>\n",
              "    </tr>\n",
              "    <tr>\n",
              "      <th>3</th>\n",
              "      <td>11.2</td>\n",
              "      <td>0.280</td>\n",
              "      <td>0.56</td>\n",
              "      <td>1.9</td>\n",
              "      <td>0.075</td>\n",
              "      <td>17.0</td>\n",
              "      <td>60.0</td>\n",
              "      <td>0.99800</td>\n",
              "      <td>3.16</td>\n",
              "      <td>0.58</td>\n",
              "      <td>9.8</td>\n",
              "      <td>6</td>\n",
              "      <td>3</td>\n",
              "    </tr>\n",
              "    <tr>\n",
              "      <th>4</th>\n",
              "      <td>7.4</td>\n",
              "      <td>0.700</td>\n",
              "      <td>0.00</td>\n",
              "      <td>1.9</td>\n",
              "      <td>0.076</td>\n",
              "      <td>11.0</td>\n",
              "      <td>34.0</td>\n",
              "      <td>0.99780</td>\n",
              "      <td>3.51</td>\n",
              "      <td>0.56</td>\n",
              "      <td>9.4</td>\n",
              "      <td>5</td>\n",
              "      <td>4</td>\n",
              "    </tr>\n",
              "    <tr>\n",
              "      <th>...</th>\n",
              "      <td>...</td>\n",
              "      <td>...</td>\n",
              "      <td>...</td>\n",
              "      <td>...</td>\n",
              "      <td>...</td>\n",
              "      <td>...</td>\n",
              "      <td>...</td>\n",
              "      <td>...</td>\n",
              "      <td>...</td>\n",
              "      <td>...</td>\n",
              "      <td>...</td>\n",
              "      <td>...</td>\n",
              "      <td>...</td>\n",
              "    </tr>\n",
              "    <tr>\n",
              "      <th>1138</th>\n",
              "      <td>6.3</td>\n",
              "      <td>0.510</td>\n",
              "      <td>0.13</td>\n",
              "      <td>2.3</td>\n",
              "      <td>0.076</td>\n",
              "      <td>29.0</td>\n",
              "      <td>40.0</td>\n",
              "      <td>0.99574</td>\n",
              "      <td>3.42</td>\n",
              "      <td>0.75</td>\n",
              "      <td>11.0</td>\n",
              "      <td>6</td>\n",
              "      <td>1592</td>\n",
              "    </tr>\n",
              "    <tr>\n",
              "      <th>1139</th>\n",
              "      <td>6.8</td>\n",
              "      <td>0.620</td>\n",
              "      <td>0.08</td>\n",
              "      <td>1.9</td>\n",
              "      <td>0.068</td>\n",
              "      <td>28.0</td>\n",
              "      <td>38.0</td>\n",
              "      <td>0.99651</td>\n",
              "      <td>3.42</td>\n",
              "      <td>0.82</td>\n",
              "      <td>9.5</td>\n",
              "      <td>6</td>\n",
              "      <td>1593</td>\n",
              "    </tr>\n",
              "    <tr>\n",
              "      <th>1140</th>\n",
              "      <td>6.2</td>\n",
              "      <td>0.600</td>\n",
              "      <td>0.08</td>\n",
              "      <td>2.0</td>\n",
              "      <td>0.090</td>\n",
              "      <td>32.0</td>\n",
              "      <td>44.0</td>\n",
              "      <td>0.99490</td>\n",
              "      <td>3.45</td>\n",
              "      <td>0.58</td>\n",
              "      <td>10.5</td>\n",
              "      <td>5</td>\n",
              "      <td>1594</td>\n",
              "    </tr>\n",
              "    <tr>\n",
              "      <th>1141</th>\n",
              "      <td>5.9</td>\n",
              "      <td>0.550</td>\n",
              "      <td>0.10</td>\n",
              "      <td>2.2</td>\n",
              "      <td>0.062</td>\n",
              "      <td>39.0</td>\n",
              "      <td>51.0</td>\n",
              "      <td>0.99512</td>\n",
              "      <td>3.52</td>\n",
              "      <td>0.76</td>\n",
              "      <td>11.2</td>\n",
              "      <td>6</td>\n",
              "      <td>1595</td>\n",
              "    </tr>\n",
              "    <tr>\n",
              "      <th>1142</th>\n",
              "      <td>5.9</td>\n",
              "      <td>0.645</td>\n",
              "      <td>0.12</td>\n",
              "      <td>2.0</td>\n",
              "      <td>0.075</td>\n",
              "      <td>32.0</td>\n",
              "      <td>44.0</td>\n",
              "      <td>0.99547</td>\n",
              "      <td>3.57</td>\n",
              "      <td>0.71</td>\n",
              "      <td>10.2</td>\n",
              "      <td>5</td>\n",
              "      <td>1597</td>\n",
              "    </tr>\n",
              "  </tbody>\n",
              "</table>\n",
              "<p>1143 rows × 13 columns</p>\n",
              "</div>\n",
              "    <div class=\"colab-df-buttons\">\n",
              "\n",
              "  <div class=\"colab-df-container\">\n",
              "    <button class=\"colab-df-convert\" onclick=\"convertToInteractive('df-51492617-870b-4986-87a1-b4114dd4560e')\"\n",
              "            title=\"Convert this dataframe to an interactive table.\"\n",
              "            style=\"display:none;\">\n",
              "\n",
              "  <svg xmlns=\"http://www.w3.org/2000/svg\" height=\"24px\" viewBox=\"0 -960 960 960\">\n",
              "    <path d=\"M120-120v-720h720v720H120Zm60-500h600v-160H180v160Zm220 220h160v-160H400v160Zm0 220h160v-160H400v160ZM180-400h160v-160H180v160Zm440 0h160v-160H620v160ZM180-180h160v-160H180v160Zm440 0h160v-160H620v160Z\"/>\n",
              "  </svg>\n",
              "    </button>\n",
              "\n",
              "  <style>\n",
              "    .colab-df-container {\n",
              "      display:flex;\n",
              "      gap: 12px;\n",
              "    }\n",
              "\n",
              "    .colab-df-convert {\n",
              "      background-color: #E8F0FE;\n",
              "      border: none;\n",
              "      border-radius: 50%;\n",
              "      cursor: pointer;\n",
              "      display: none;\n",
              "      fill: #1967D2;\n",
              "      height: 32px;\n",
              "      padding: 0 0 0 0;\n",
              "      width: 32px;\n",
              "    }\n",
              "\n",
              "    .colab-df-convert:hover {\n",
              "      background-color: #E2EBFA;\n",
              "      box-shadow: 0px 1px 2px rgba(60, 64, 67, 0.3), 0px 1px 3px 1px rgba(60, 64, 67, 0.15);\n",
              "      fill: #174EA6;\n",
              "    }\n",
              "\n",
              "    .colab-df-buttons div {\n",
              "      margin-bottom: 4px;\n",
              "    }\n",
              "\n",
              "    [theme=dark] .colab-df-convert {\n",
              "      background-color: #3B4455;\n",
              "      fill: #D2E3FC;\n",
              "    }\n",
              "\n",
              "    [theme=dark] .colab-df-convert:hover {\n",
              "      background-color: #434B5C;\n",
              "      box-shadow: 0px 1px 3px 1px rgba(0, 0, 0, 0.15);\n",
              "      filter: drop-shadow(0px 1px 2px rgba(0, 0, 0, 0.3));\n",
              "      fill: #FFFFFF;\n",
              "    }\n",
              "  </style>\n",
              "\n",
              "    <script>\n",
              "      const buttonEl =\n",
              "        document.querySelector('#df-51492617-870b-4986-87a1-b4114dd4560e button.colab-df-convert');\n",
              "      buttonEl.style.display =\n",
              "        google.colab.kernel.accessAllowed ? 'block' : 'none';\n",
              "\n",
              "      async function convertToInteractive(key) {\n",
              "        const element = document.querySelector('#df-51492617-870b-4986-87a1-b4114dd4560e');\n",
              "        const dataTable =\n",
              "          await google.colab.kernel.invokeFunction('convertToInteractive',\n",
              "                                                    [key], {});\n",
              "        if (!dataTable) return;\n",
              "\n",
              "        const docLinkHtml = 'Like what you see? Visit the ' +\n",
              "          '<a target=\"_blank\" href=https://colab.research.google.com/notebooks/data_table.ipynb>data table notebook</a>'\n",
              "          + ' to learn more about interactive tables.';\n",
              "        element.innerHTML = '';\n",
              "        dataTable['output_type'] = 'display_data';\n",
              "        await google.colab.output.renderOutput(dataTable, element);\n",
              "        const docLink = document.createElement('div');\n",
              "        docLink.innerHTML = docLinkHtml;\n",
              "        element.appendChild(docLink);\n",
              "      }\n",
              "    </script>\n",
              "  </div>\n",
              "\n",
              "\n",
              "<div id=\"df-4e5a4468-1b1b-40c4-8b0b-7c6697538299\">\n",
              "  <button class=\"colab-df-quickchart\" onclick=\"quickchart('df-4e5a4468-1b1b-40c4-8b0b-7c6697538299')\"\n",
              "            title=\"Suggest charts\"\n",
              "            style=\"display:none;\">\n",
              "\n",
              "<svg xmlns=\"http://www.w3.org/2000/svg\" height=\"24px\"viewBox=\"0 0 24 24\"\n",
              "     width=\"24px\">\n",
              "    <g>\n",
              "        <path d=\"M19 3H5c-1.1 0-2 .9-2 2v14c0 1.1.9 2 2 2h14c1.1 0 2-.9 2-2V5c0-1.1-.9-2-2-2zM9 17H7v-7h2v7zm4 0h-2V7h2v10zm4 0h-2v-4h2v4z\"/>\n",
              "    </g>\n",
              "</svg>\n",
              "  </button>\n",
              "\n",
              "<style>\n",
              "  .colab-df-quickchart {\n",
              "      --bg-color: #E8F0FE;\n",
              "      --fill-color: #1967D2;\n",
              "      --hover-bg-color: #E2EBFA;\n",
              "      --hover-fill-color: #174EA6;\n",
              "      --disabled-fill-color: #AAA;\n",
              "      --disabled-bg-color: #DDD;\n",
              "  }\n",
              "\n",
              "  [theme=dark] .colab-df-quickchart {\n",
              "      --bg-color: #3B4455;\n",
              "      --fill-color: #D2E3FC;\n",
              "      --hover-bg-color: #434B5C;\n",
              "      --hover-fill-color: #FFFFFF;\n",
              "      --disabled-bg-color: #3B4455;\n",
              "      --disabled-fill-color: #666;\n",
              "  }\n",
              "\n",
              "  .colab-df-quickchart {\n",
              "    background-color: var(--bg-color);\n",
              "    border: none;\n",
              "    border-radius: 50%;\n",
              "    cursor: pointer;\n",
              "    display: none;\n",
              "    fill: var(--fill-color);\n",
              "    height: 32px;\n",
              "    padding: 0;\n",
              "    width: 32px;\n",
              "  }\n",
              "\n",
              "  .colab-df-quickchart:hover {\n",
              "    background-color: var(--hover-bg-color);\n",
              "    box-shadow: 0 1px 2px rgba(60, 64, 67, 0.3), 0 1px 3px 1px rgba(60, 64, 67, 0.15);\n",
              "    fill: var(--button-hover-fill-color);\n",
              "  }\n",
              "\n",
              "  .colab-df-quickchart-complete:disabled,\n",
              "  .colab-df-quickchart-complete:disabled:hover {\n",
              "    background-color: var(--disabled-bg-color);\n",
              "    fill: var(--disabled-fill-color);\n",
              "    box-shadow: none;\n",
              "  }\n",
              "\n",
              "  .colab-df-spinner {\n",
              "    border: 2px solid var(--fill-color);\n",
              "    border-color: transparent;\n",
              "    border-bottom-color: var(--fill-color);\n",
              "    animation:\n",
              "      spin 1s steps(1) infinite;\n",
              "  }\n",
              "\n",
              "  @keyframes spin {\n",
              "    0% {\n",
              "      border-color: transparent;\n",
              "      border-bottom-color: var(--fill-color);\n",
              "      border-left-color: var(--fill-color);\n",
              "    }\n",
              "    20% {\n",
              "      border-color: transparent;\n",
              "      border-left-color: var(--fill-color);\n",
              "      border-top-color: var(--fill-color);\n",
              "    }\n",
              "    30% {\n",
              "      border-color: transparent;\n",
              "      border-left-color: var(--fill-color);\n",
              "      border-top-color: var(--fill-color);\n",
              "      border-right-color: var(--fill-color);\n",
              "    }\n",
              "    40% {\n",
              "      border-color: transparent;\n",
              "      border-right-color: var(--fill-color);\n",
              "      border-top-color: var(--fill-color);\n",
              "    }\n",
              "    60% {\n",
              "      border-color: transparent;\n",
              "      border-right-color: var(--fill-color);\n",
              "    }\n",
              "    80% {\n",
              "      border-color: transparent;\n",
              "      border-right-color: var(--fill-color);\n",
              "      border-bottom-color: var(--fill-color);\n",
              "    }\n",
              "    90% {\n",
              "      border-color: transparent;\n",
              "      border-bottom-color: var(--fill-color);\n",
              "    }\n",
              "  }\n",
              "</style>\n",
              "\n",
              "  <script>\n",
              "    async function quickchart(key) {\n",
              "      const quickchartButtonEl =\n",
              "        document.querySelector('#' + key + ' button');\n",
              "      quickchartButtonEl.disabled = true;  // To prevent multiple clicks.\n",
              "      quickchartButtonEl.classList.add('colab-df-spinner');\n",
              "      try {\n",
              "        const charts = await google.colab.kernel.invokeFunction(\n",
              "            'suggestCharts', [key], {});\n",
              "      } catch (error) {\n",
              "        console.error('Error during call to suggestCharts:', error);\n",
              "      }\n",
              "      quickchartButtonEl.classList.remove('colab-df-spinner');\n",
              "      quickchartButtonEl.classList.add('colab-df-quickchart-complete');\n",
              "    }\n",
              "    (() => {\n",
              "      let quickchartButtonEl =\n",
              "        document.querySelector('#df-4e5a4468-1b1b-40c4-8b0b-7c6697538299 button');\n",
              "      quickchartButtonEl.style.display =\n",
              "        google.colab.kernel.accessAllowed ? 'block' : 'none';\n",
              "    })();\n",
              "  </script>\n",
              "</div>\n",
              "    </div>\n",
              "  </div>\n"
            ],
            "application/vnd.google.colaboratory.intrinsic+json": {
              "type": "dataframe",
              "variable_name": "dataset",
              "summary": "{\n  \"name\": \"dataset\",\n  \"rows\": 1143,\n  \"fields\": [\n    {\n      \"column\": \"fixed acidity\",\n      \"properties\": {\n        \"dtype\": \"number\",\n        \"std\": 1.74759501716954,\n        \"min\": 4.6,\n        \"max\": 15.9,\n        \"num_unique_values\": 91,\n        \"samples\": [\n          9.7,\n          7.0,\n          9.0\n        ],\n        \"semantic_type\": \"\",\n        \"description\": \"\"\n      }\n    },\n    {\n      \"column\": \"volatile acidity\",\n      \"properties\": {\n        \"dtype\": \"number\",\n        \"std\": 0.1796331930225245,\n        \"min\": 0.12,\n        \"max\": 1.58,\n        \"num_unique_values\": 135,\n        \"samples\": [\n          0.715,\n          0.48,\n          0.92\n        ],\n        \"semantic_type\": \"\",\n        \"description\": \"\"\n      }\n    },\n    {\n      \"column\": \"citric acid\",\n      \"properties\": {\n        \"dtype\": \"number\",\n        \"std\": 0.19668585234821898,\n        \"min\": 0.0,\n        \"max\": 1.0,\n        \"num_unique_values\": 77,\n        \"samples\": [\n          0.02,\n          0.19,\n          0.11\n        ],\n        \"semantic_type\": \"\",\n        \"description\": \"\"\n      }\n    },\n    {\n      \"column\": \"residual sugar\",\n      \"properties\": {\n        \"dtype\": \"number\",\n        \"std\": 1.3559174666826799,\n        \"min\": 0.9,\n        \"max\": 15.5,\n        \"num_unique_values\": 80,\n        \"samples\": [\n          4.0,\n          1.9,\n          7.2\n        ],\n        \"semantic_type\": \"\",\n        \"description\": \"\"\n      }\n    },\n    {\n      \"column\": \"chlorides\",\n      \"properties\": {\n        \"dtype\": \"number\",\n        \"std\": 0.04726733795238057,\n        \"min\": 0.012,\n        \"max\": 0.611,\n        \"num_unique_values\": 131,\n        \"samples\": [\n          0.061,\n          0.119,\n          0.066\n        ],\n        \"semantic_type\": \"\",\n        \"description\": \"\"\n      }\n    },\n    {\n      \"column\": \"free sulfur dioxide\",\n      \"properties\": {\n        \"dtype\": \"number\",\n        \"std\": 10.250486123430822,\n        \"min\": 1.0,\n        \"max\": 68.0,\n        \"num_unique_values\": 53,\n        \"samples\": [\n          30.0,\n          46.0,\n          40.0\n        ],\n        \"semantic_type\": \"\",\n        \"description\": \"\"\n      }\n    },\n    {\n      \"column\": \"total sulfur dioxide\",\n      \"properties\": {\n        \"dtype\": \"number\",\n        \"std\": 32.78213030734311,\n        \"min\": 6.0,\n        \"max\": 289.0,\n        \"num_unique_values\": 138,\n        \"samples\": [\n          70.0,\n          91.0,\n          71.0\n        ],\n        \"semantic_type\": \"\",\n        \"description\": \"\"\n      }\n    },\n    {\n      \"column\": \"density\",\n      \"properties\": {\n        \"dtype\": \"number\",\n        \"std\": 0.0019250671302545696,\n        \"min\": 0.99007,\n        \"max\": 1.00369,\n        \"num_unique_values\": 388,\n        \"samples\": [\n          0.99434,\n          0.9927,\n          0.99528\n        ],\n        \"semantic_type\": \"\",\n        \"description\": \"\"\n      }\n    },\n    {\n      \"column\": \"pH\",\n      \"properties\": {\n        \"dtype\": \"number\",\n        \"std\": 0.15666405977275194,\n        \"min\": 2.74,\n        \"max\": 4.01,\n        \"num_unique_values\": 87,\n        \"samples\": [\n          2.92,\n          3.51,\n          3.44\n        ],\n        \"semantic_type\": \"\",\n        \"description\": \"\"\n      }\n    },\n    {\n      \"column\": \"sulphates\",\n      \"properties\": {\n        \"dtype\": \"number\",\n        \"std\": 0.1703987144670741,\n        \"min\": 0.33,\n        \"max\": 2.0,\n        \"num_unique_values\": 89,\n        \"samples\": [\n          0.72,\n          1.61,\n          1.12\n        ],\n        \"semantic_type\": \"\",\n        \"description\": \"\"\n      }\n    },\n    {\n      \"column\": \"alcohol\",\n      \"properties\": {\n        \"dtype\": \"number\",\n        \"std\": 1.0821956098764445,\n        \"min\": 8.4,\n        \"max\": 14.9,\n        \"num_unique_values\": 61,\n        \"samples\": [\n          9.4,\n          9.9,\n          12.7\n        ],\n        \"semantic_type\": \"\",\n        \"description\": \"\"\n      }\n    },\n    {\n      \"column\": \"quality\",\n      \"properties\": {\n        \"dtype\": \"number\",\n        \"std\": 0,\n        \"min\": 3,\n        \"max\": 8,\n        \"num_unique_values\": 6,\n        \"samples\": [\n          5,\n          6,\n          3\n        ],\n        \"semantic_type\": \"\",\n        \"description\": \"\"\n      }\n    },\n    {\n      \"column\": \"Id\",\n      \"properties\": {\n        \"dtype\": \"number\",\n        \"std\": 463,\n        \"min\": 0,\n        \"max\": 1597,\n        \"num_unique_values\": 1143,\n        \"samples\": [\n          222,\n          1514,\n          417\n        ],\n        \"semantic_type\": \"\",\n        \"description\": \"\"\n      }\n    }\n  ]\n}"
            }
          },
          "metadata": {},
          "execution_count": 9
        }
      ]
    },
    {
      "cell_type": "markdown",
      "source": [
        "###Assignment 3: Checking the dataset"
      ],
      "metadata": {
        "id": "vzXk8wHNJlLT"
      }
    },
    {
      "cell_type": "markdown",
      "source": [
        "Always do yourself a favour to check data:\n",
        "1.   Extract information about the data structure with the `type` method.\n",
        "2.   Check dataset with `info()` method provided by the `DataFrame` class\n",
        "1.   Is there any missing data in the dataset?\n",
        "2.   State your conclusion on the dataset (e.g. in a cell below)\n",
        "\n",
        "\n",
        "\n"
      ],
      "metadata": {
        "id": "9auWZKMqmxkV"
      }
    },
    {
      "cell_type": "markdown",
      "source": [
        "### Assignment 4: Selecting features and labels"
      ],
      "metadata": {
        "id": "OHRSjG8h5JuG"
      }
    },
    {
      "cell_type": "markdown",
      "source": [
        "Introduce code in the cells below that do the following:\n",
        "1.   You may drop some features. E.g. with `dataset.drop(..., axis=1, inplace=True)`. Consider dropping some og the 'acidity' and 'sulfur' features, because the may depend on each other.\n",
        "2.   Extract the features with `X = dataset.iloc...`. Remember to leave out 'quality' and 'Id'\n",
        "1.   Extract the quality class labels with `y = dataset[\"quality\"].isin([6,7])` This will assign 'high quality' (`True` value) to wines having quality 6 or 7. The rest of the wines will then have their quality class labelled with `False`\n",
        "\n",
        "Introduce one or more cells to carry what is mentioned above.\n",
        "\n",
        "If time allows: you may also try experient with combining features\n",
        "\n",
        "\n",
        "\n",
        "\n"
      ],
      "metadata": {
        "id": "NrfrdZj_6Snk"
      }
    },
    {
      "cell_type": "markdown",
      "source": [
        "### Assignment 5: Stratifying the dataset"
      ],
      "metadata": {
        "id": "1G9XItt0IUXF"
      }
    },
    {
      "cell_type": "markdown",
      "source": [
        "Introduce code in the cell below that stratifies the dataset:\n",
        "1.   Import the `train_test_split` stratifier - that is: `from sklearn.model_selection import train_test_split`\n",
        "2.   Split the dataset in training set and test set, where we stratify on the quality class labels - that is: `X_train, X_test, y_train, y_test = train_test_split(X, y, stratify=y, random_state=42)`  \n",
        "\n",
        "Check also the following references on `train_test_split`:\n",
        "1.   https://scikit-learn.org/stable/modules/generated/sklearn.model_selection.train_test_split.html\n",
        "2.   Chapter 2 and Python code base for chapter: https://scikit-learn.org/stable/modules/generated/sklearn.model_selection.train_test_split.html\n",
        "\n",
        "\n"
      ],
      "metadata": {
        "id": "bcTbyzj3JR8B"
      }
    },
    {
      "cell_type": "markdown",
      "source": [
        "### Assignment 6: Stratifying the dataset (continued)"
      ],
      "metadata": {
        "id": "rR997w-DOkJ4"
      }
    },
    {
      "cell_type": "markdown",
      "source": [
        "Answer the following questions:\n",
        "1.   What are the variables `X_train`, `X_test`, `y_train` and `y_test` going to be used for ?\n",
        "2.   Explains the parameter `stratify=y` (Hint: Yes it has something to with stratifiction on quality class labels)\n",
        "\n",
        "State your answers (e.g. in a cell below)\n"
      ],
      "metadata": {
        "id": "cXbEX1z3O3Fb"
      }
    },
    {
      "cell_type": "markdown",
      "source": [
        "### Assignment 7: Establish the MLP Classifier and pipeline"
      ],
      "metadata": {
        "id": "ZGEtxvPUBIZE"
      }
    },
    {
      "cell_type": "markdown",
      "source": [
        "Do the following in the cell below to establish a Multi Layer Perceptron:\n",
        "1.   Import the classifier - that is: `from sklearn.neural_network import MLPClassifier`\n",
        "2.   Import the standard scaler - that is: `from sklearn.pipeline import make_pipeline`\n",
        "1.   Import pipelining - that is: `from sklearn.pipeline import make_pipeline`\n",
        "2.   Establish the MLP Classifier - that is something like this `MLPClassifier(hidden_layer_sizes=[5], activation=\"relu\" , max_iter=10_000, random_state=42)`\n",
        "1.   Establish a pipeline containing `MLPClassifier` and `StandardScaler`- that is something like this:  `make_pipeline(StandardScaler(), ...)`\n",
        "\n",
        "\n",
        "\n",
        "Also check the following references:\n",
        "1.   MLP Classifier: https://scikit-learn.org/stable/modules/generated/sklearn.neural_network.MLPClassifier.html and Chapter 10 including code reference for this chapter: https://github.com/ageron/handson-ml3/blob/main/10_neural_nets_with_keras.ipynb\n",
        "2.   Standard scaler: https://scikit-learn.org/stable/modules/generated/sklearn.preprocessing.StandardScaler.html and chapter 2\n",
        "1.   Pipelining: https://scikit-learn.org/stable/modules/generated/sklearn.pipeline.Pipeline.html and  chapter 2\n",
        "\n",
        "\n",
        "\n",
        "\n"
      ],
      "metadata": {
        "id": "y1Lzs198sJ7J"
      }
    },
    {
      "cell_type": "markdown",
      "source": [
        "### Assignment 8: Establish the MLP Classifier and pipeline (continued)"
      ],
      "metadata": {
        "id": "NuwuDAX6vjDZ"
      }
    },
    {
      "cell_type": "markdown",
      "source": [
        "Answer the following questions (e.g. in a cell below):\n",
        "1.   Why is it important to apply the `StandardScaler` ?\n",
        "2.   What is the point on establishing a pipeline ?\n",
        "1.   Explain the `hidden_layer_sizes` parameter.\n",
        "2.   Explain the `activation` paramater.\n",
        "1.   Explain the `max_iter` parameter.       \n",
        "2.   Explain the `random_state` parameter.\n",
        "1.   Can you find out how many layers perceptron has (hint: look after an attribute) ?\n",
        "\n",
        "\n",
        "\n",
        "\n",
        "\n",
        "\n",
        "\n",
        "\n"
      ],
      "metadata": {
        "id": "q4D-GC_zvqiG"
      }
    },
    {
      "cell_type": "markdown",
      "source": [
        "### Assignment 9: Fitting the model"
      ],
      "metadata": {
        "id": "FKqZLO1mb5Fq"
      }
    },
    {
      "cell_type": "markdown",
      "source": [
        "Fit the model by calling the `fit` method on the pipeline in the cell below\n"
      ],
      "metadata": {
        "id": "xUY5Qeg0c9GC"
      }
    },
    {
      "cell_type": "markdown",
      "source": [
        "### Assignment 10: Fitting the model (continued)"
      ],
      "metadata": {
        "id": "2bew-JiEdME1"
      }
    },
    {
      "cell_type": "markdown",
      "source": [
        "Answer the following question(s) (e.g. in a cell below):\n",
        "1.   What does it actually mean to fit a model ?\n",
        "1.   What does specifically mean in our wine case model ?\n",
        "\n",
        "\n",
        "\n",
        "\n",
        "\n"
      ],
      "metadata": {
        "id": "LOmAhEhcdfXW"
      }
    },
    {
      "cell_type": "markdown",
      "source": [
        "### Assignment 11: Observing the models score"
      ],
      "metadata": {
        "id": "P-u_aOF9e8NY"
      }
    },
    {
      "cell_type": "markdown",
      "source": [
        "Do the following in the cells below to calculate the models accuracy score:\n",
        "1.   Calculate the accuracy score on the training set - that is: `pipeline.score(X_train, y_train)` in its own cell\n",
        "2.   Calculate the accuracy score on the test set - that is: `pipeline.score(X_test, y_test)` in its own cell\n",
        "\n",
        "Also Check the following references on pipelining:\n",
        "1.   Score method: https://scikit-learn.org/stable/modules/generated/sklearn.pipeline.Pipeline.html#sklearn.pipeline.Pipeline.score\n"
      ],
      "metadata": {
        "id": "cT1Uc8wohl6r"
      }
    },
    {
      "cell_type": "markdown",
      "source": [
        "### Assignment 12: Observing the models score (continued)"
      ],
      "metadata": {
        "id": "bD2txholmn83"
      }
    },
    {
      "cell_type": "markdown",
      "source": [
        "Observe among other things on the underfit and overfit conditions:\n",
        "1.   Try different settings of `hidden_layer_sizes` and  `activation` parameters\n",
        "2.   Try dropping out and/or combine features\n",
        "1.   What do you observe?\n",
        "\n",
        "State your answers and observations (e.g. in a cell below)\n",
        "\n",
        "\n",
        "\n"
      ],
      "metadata": {
        "id": "rOE6BcVxx8Rr"
      }
    },
    {
      "cell_type": "markdown",
      "source": [
        "### Assignment 13: Confusion Matrix and performance measures (revisited) - Extra"
      ],
      "metadata": {
        "id": "cDxcDdkynLnF"
      }
    },
    {
      "cell_type": "markdown",
      "source": [
        "For the fast ones\n",
        "\n",
        "Repeat assignment 1 with MLP Classifiers' score fitted with the Vino Verde wines dataset"
      ],
      "metadata": {
        "id": "2sL2Op5VnTc0"
      }
    },
    {
      "cell_type": "markdown",
      "source": [
        "Assignment 14:Try with other classifiers - Extra"
      ],
      "metadata": {
        "id": "G9dBcP2kRVlP"
      }
    },
    {
      "cell_type": "markdown",
      "source": [
        "For the fast ones\n",
        "\n",
        "Try to get a better a performance by applying another classifier algorithm"
      ],
      "metadata": {
        "id": "6O6noqgtRpHm"
      }
    }
  ]
}