{
  "nbformat": 4,
  "nbformat_minor": 0,
  "metadata": {
    "colab": {
      "provenance": [],
      "authorship_tag": "ABX9TyPBNCx/UkTbX3OODFa5q9UK",
      "include_colab_link": true
    },
    "kernelspec": {
      "name": "python3",
      "display_name": "Python 3"
    },
    "language_info": {
      "name": "python"
    }
  },
  "cells": [
    {
      "cell_type": "markdown",
      "metadata": {
        "id": "view-in-github",
        "colab_type": "text"
      },
      "source": [
        "<a href=\"https://colab.research.google.com/github/jpandersen61/Machine-Learning/blob/main/ChatGPT_Chat_Sequence.ipynb\" target=\"_parent\"><img src=\"https://colab.research.google.com/assets/colab-badge.svg\" alt=\"Open In Colab\"/></a>"
      ]
    },
    {
      "cell_type": "markdown",
      "source": [
        "#Chat sequence"
      ],
      "metadata": {
        "id": "MgpnjDz_ARFo"
      }
    },
    {
      "cell_type": "markdown",
      "source": [
        "###Install OpenAI components"
      ],
      "metadata": {
        "id": "bmZomqAqUet4"
      }
    },
    {
      "cell_type": "code",
      "execution_count": 1,
      "metadata": {
        "colab": {
          "base_uri": "https://localhost:8080/"
        },
        "id": "WMZtZ_fFULYL",
        "outputId": "2d4fb5a5-9c2d-4f6d-9dce-6c0a151b2d7a"
      },
      "outputs": [
        {
          "output_type": "stream",
          "name": "stdout",
          "text": [
            "Requirement already satisfied: openai in /usr/local/lib/python3.10/dist-packages (1.50.2)\n",
            "Requirement already satisfied: anyio<5,>=3.5.0 in /usr/local/lib/python3.10/dist-packages (from openai) (3.7.1)\n",
            "Requirement already satisfied: distro<2,>=1.7.0 in /usr/lib/python3/dist-packages (from openai) (1.7.0)\n",
            "Requirement already satisfied: httpx<1,>=0.23.0 in /usr/local/lib/python3.10/dist-packages (from openai) (0.27.2)\n",
            "Requirement already satisfied: jiter<1,>=0.4.0 in /usr/local/lib/python3.10/dist-packages (from openai) (0.5.0)\n",
            "Requirement already satisfied: pydantic<3,>=1.9.0 in /usr/local/lib/python3.10/dist-packages (from openai) (2.9.2)\n",
            "Requirement already satisfied: sniffio in /usr/local/lib/python3.10/dist-packages (from openai) (1.3.1)\n",
            "Requirement already satisfied: tqdm>4 in /usr/local/lib/python3.10/dist-packages (from openai) (4.66.5)\n",
            "Requirement already satisfied: typing-extensions<5,>=4.11 in /usr/local/lib/python3.10/dist-packages (from openai) (4.12.2)\n",
            "Requirement already satisfied: idna>=2.8 in /usr/local/lib/python3.10/dist-packages (from anyio<5,>=3.5.0->openai) (3.10)\n",
            "Requirement already satisfied: exceptiongroup in /usr/local/lib/python3.10/dist-packages (from anyio<5,>=3.5.0->openai) (1.2.2)\n",
            "Requirement already satisfied: certifi in /usr/local/lib/python3.10/dist-packages (from httpx<1,>=0.23.0->openai) (2024.8.30)\n",
            "Requirement already satisfied: httpcore==1.* in /usr/local/lib/python3.10/dist-packages (from httpx<1,>=0.23.0->openai) (1.0.5)\n",
            "Requirement already satisfied: h11<0.15,>=0.13 in /usr/local/lib/python3.10/dist-packages (from httpcore==1.*->httpx<1,>=0.23.0->openai) (0.14.0)\n",
            "Requirement already satisfied: annotated-types>=0.6.0 in /usr/local/lib/python3.10/dist-packages (from pydantic<3,>=1.9.0->openai) (0.7.0)\n",
            "Requirement already satisfied: pydantic-core==2.23.4 in /usr/local/lib/python3.10/dist-packages (from pydantic<3,>=1.9.0->openai) (2.23.4)\n"
          ]
        }
      ],
      "source": [
        "pip install openai\n"
      ]
    },
    {
      "cell_type": "code",
      "source": [
        "pip install python-dotenv"
      ],
      "metadata": {
        "colab": {
          "base_uri": "https://localhost:8080/"
        },
        "id": "dtwUjrS2VbqJ",
        "outputId": "5cb40794-8af1-483f-b237-a97603f5a5da"
      },
      "execution_count": 2,
      "outputs": [
        {
          "output_type": "stream",
          "name": "stdout",
          "text": [
            "Requirement already satisfied: python-dotenv in /usr/local/lib/python3.10/dist-packages (1.0.1)\n"
          ]
        }
      ]
    },
    {
      "cell_type": "markdown",
      "source": [
        "###Mount Google Drive"
      ],
      "metadata": {
        "id": "LiVhUlZfVsRP"
      }
    },
    {
      "cell_type": "code",
      "source": [
        "from google.colab import drive\n",
        "drive.mount('/content/drive')"
      ],
      "metadata": {
        "colab": {
          "base_uri": "https://localhost:8080/"
        },
        "id": "ERwSE0yEV4Rs",
        "outputId": "607f8784-4dad-4fcb-b5a0-90fc9c0b7cd1"
      },
      "execution_count": 3,
      "outputs": [
        {
          "output_type": "stream",
          "name": "stdout",
          "text": [
            "Drive already mounted at /content/drive; to attempt to forcibly remount, call drive.mount(\"/content/drive\", force_remount=True).\n"
          ]
        }
      ]
    },
    {
      "cell_type": "markdown",
      "source": [
        "###Load .env file"
      ],
      "metadata": {
        "id": "cc3ly5uAWIYc"
      }
    },
    {
      "cell_type": "code",
      "source": [
        "from dotenv import load_dotenv\n",
        "load_dotenv('drive/My Drive/Colab Notebooks/.env')"
      ],
      "metadata": {
        "colab": {
          "base_uri": "https://localhost:8080/"
        },
        "id": "m5ycZHwQWNan",
        "outputId": "434fff60-86b6-42f1-9b69-316880d26bab"
      },
      "execution_count": 4,
      "outputs": [
        {
          "output_type": "execute_result",
          "data": {
            "text/plain": [
              "True"
            ]
          },
          "metadata": {},
          "execution_count": 4
        }
      ]
    },
    {
      "cell_type": "markdown",
      "source": [
        "###Initialize Open AI client"
      ],
      "metadata": {
        "id": "uWB5Q5NqXCYm"
      }
    },
    {
      "cell_type": "code",
      "source": [
        "from openai import OpenAI as openai\n",
        "import os\n",
        "openai.api_key = os.getenv(\"OPENAI_API_KEY\")\n",
        "openai.api_key\n",
        "client = openai()"
      ],
      "metadata": {
        "id": "NRygMPIVXDzp"
      },
      "execution_count": 5,
      "outputs": []
    },
    {
      "cell_type": "code",
      "source": [],
      "metadata": {
        "id": "vn08JlWO_7na"
      },
      "execution_count": null,
      "outputs": []
    },
    {
      "cell_type": "markdown",
      "source": [
        "###Various variables and settings"
      ],
      "metadata": {
        "id": "rerQJqKxX_i0"
      }
    },
    {
      "cell_type": "code",
      "source": [
        "gptModel=\"gpt-4o-mini\"\n",
        "chatCompletionChoices=1\n",
        "samplingTemperature=None\n",
        "maxCompletionTokens=100\n",
        "nucleusSampling=None"
      ],
      "metadata": {
        "id": "WmrMIHu-ZwNb"
      },
      "execution_count": 6,
      "outputs": []
    },
    {
      "cell_type": "markdown",
      "source": [
        "###1st prompt"
      ],
      "metadata": {
        "id": "A4nb_Yj2Z_1s"
      }
    },
    {
      "cell_type": "code",
      "source": [
        "InitialSystemContent = \"You are a helpful teacher.\"\n",
        "#InitialSystemContent = \"You are an experienced sales copywriter. The name of my business is Future Mind Consulting, and we sell software development. Write a 200-word email that will persuade anyone who reads it to become a customer.\"\n"
      ],
      "metadata": {
        "id": "qGt6k0aqYxCt"
      },
      "execution_count": 7,
      "outputs": []
    },
    {
      "cell_type": "code",
      "source": [
        "FirstUserContent = \"Are there other measures than time complexity for an algorithm?\"\n",
        "#FirstUserContent = \"Serious\""
      ],
      "metadata": {
        "id": "3Q13yuwTY4zt"
      },
      "execution_count": 8,
      "outputs": []
    },
    {
      "cell_type": "code",
      "source": [
        "chatMessages=[\n",
        "    {\n",
        "        \"role\": \"system\", \"content\": InitialSystemContent\n",
        "    },\n",
        "    {\n",
        "        \"role\": \"user\",\n",
        "        \"content\": FirstUserContent,\n",
        "    },\n",
        "]"
      ],
      "metadata": {
        "id": "WL5KOl_KZUFB"
      },
      "execution_count": 9,
      "outputs": []
    },
    {
      "cell_type": "code",
      "source": [
        "print(chatMessages)"
      ],
      "metadata": {
        "colab": {
          "base_uri": "https://localhost:8080/"
        },
        "id": "vgSDj-dyaVNe",
        "outputId": "e9b7d862-b75e-4ae0-a674-f75cec9beafa"
      },
      "execution_count": 10,
      "outputs": [
        {
          "output_type": "stream",
          "name": "stdout",
          "text": [
            "[{'role': 'system', 'content': 'You are a helpful teacher.'}, {'role': 'user', 'content': 'Are there other measures than time complexity for an algorithm?'}]\n"
          ]
        }
      ]
    },
    {
      "cell_type": "code",
      "source": [
        "response = client.chat.completions.create(model=gptModel, messages=chatMessages, n=chatCompletionChoices, temperature=samplingTemperature, max_completion_tokens=maxCompletionTokens, top_p=nucleusSampling)"
      ],
      "metadata": {
        "id": "EeCD7AUFZlrV"
      },
      "execution_count": 11,
      "outputs": []
    },
    {
      "cell_type": "code",
      "source": [
        "FirstAssistantContent = response.choices[0].message.content\n",
        "#Force assitant message to be something:  FirstAssistantContent = \"Yes, there are other measures besides time complexfor an algorithm, such as space complexity.\"\n"
      ],
      "metadata": {
        "id": "aSHZU_1mbPJu"
      },
      "execution_count": 12,
      "outputs": []
    },
    {
      "cell_type": "code",
      "source": [
        "print(FirstAssistantContent)"
      ],
      "metadata": {
        "colab": {
          "base_uri": "https://localhost:8080/"
        },
        "collapsed": true,
        "id": "7ppulUHVbb1W",
        "outputId": "eee20d76-43f7-42f7-8d2a-26d256019aaa"
      },
      "execution_count": 13,
      "outputs": [
        {
          "output_type": "stream",
          "name": "stdout",
          "text": [
            "Yes, there are several other measures for evaluating algorithms beyond time complexity. Here are some of the most important ones:\n",
            "\n",
            "1. **Space Complexity**: This measures the amount of memory an algorithm uses relative to the input size. It includes both the auxiliary space used by the algorithm and the space required for the input.\n",
            "\n",
            "2. **Time Complexity**: Although you're already familiar with this, it's worth reiterating that time complexity provides an estimate of the time an algorithm takes to complete as a function of the\n"
          ]
        }
      ]
    },
    {
      "cell_type": "markdown",
      "source": [
        "###2nd prompt"
      ],
      "metadata": {
        "id": "RFqIPlLuflNM"
      }
    },
    {
      "cell_type": "code",
      "source": [
        "SecondUserContent = \"What is it?\"\n",
        "#SecondUserContent = \"It is for medical device industry\""
      ],
      "metadata": {
        "id": "r_RsKgpPfqEq"
      },
      "execution_count": 14,
      "outputs": []
    },
    {
      "cell_type": "code",
      "source": [
        "chatMessages=[\n",
        "    {\n",
        "        \"role\": \"system\", \"content\": InitialSystemContent\n",
        "    },\n",
        "    {\n",
        "        \"role\": \"user\",\n",
        "        \"content\": FirstUserContent,\n",
        "    },\n",
        "    {\n",
        "        \"role\": \"assistant\",\n",
        "        \"content\": FirstAssistantContent,\n",
        "    },\n",
        "    {\n",
        "        \"role\": \"user\",\n",
        "        \"content\": SecondUserContent,\n",
        "    },\n",
        "]"
      ],
      "metadata": {
        "id": "ZvDPMcZegS4h"
      },
      "execution_count": 15,
      "outputs": []
    },
    {
      "cell_type": "code",
      "source": [
        "print(chatMessages)"
      ],
      "metadata": {
        "colab": {
          "base_uri": "https://localhost:8080/"
        },
        "id": "_MNGcNulhYNy",
        "outputId": "cdb4820d-7da6-4b12-83a8-39710cd3e8b9"
      },
      "execution_count": 16,
      "outputs": [
        {
          "output_type": "stream",
          "name": "stdout",
          "text": [
            "[{'role': 'system', 'content': 'You are a helpful teacher.'}, {'role': 'user', 'content': 'Are there other measures than time complexity for an algorithm?'}, {'role': 'assistant', 'content': \"Yes, there are several other measures for evaluating algorithms beyond time complexity. Here are some of the most important ones:\\n\\n1. **Space Complexity**: This measures the amount of memory an algorithm uses relative to the input size. It includes both the auxiliary space used by the algorithm and the space required for the input.\\n\\n2. **Time Complexity**: Although you're already familiar with this, it's worth reiterating that time complexity provides an estimate of the time an algorithm takes to complete as a function of the\"}, {'role': 'user', 'content': 'What is it?'}]\n"
          ]
        }
      ]
    },
    {
      "cell_type": "code",
      "source": [
        "response = client.chat.completions.create(model=gptModel, messages=chatMessages, n=chatCompletionChoices, temperature=samplingTemperature, max_completion_tokens=maxCompletionTokens, top_p=nucleusSampling)"
      ],
      "metadata": {
        "id": "XCQaA_8chjk-"
      },
      "execution_count": 17,
      "outputs": []
    },
    {
      "cell_type": "code",
      "source": [
        "SecondAssistantContent = response.choices[0].message.content\n",
        "#Force assitant message to be something: SecondAssistantContent = \"<something>\""
      ],
      "metadata": {
        "id": "io-1QG3jhq_l"
      },
      "execution_count": 18,
      "outputs": []
    },
    {
      "cell_type": "code",
      "source": [
        "print(SecondAssistantContent)"
      ],
      "metadata": {
        "colab": {
          "base_uri": "https://localhost:8080/"
        },
        "id": "qJeh1LFthwQk",
        "outputId": "2e85c229-ed94-4d70-f762-bc0bcaaf25d6"
      },
      "execution_count": 19,
      "outputs": [
        {
          "output_type": "stream",
          "name": "stdout",
          "text": [
            "Certainly! Here's a brief overview of key measures for evaluating algorithms, including time and space complexity, as well as several others:\n",
            "\n",
            "1. **Time Complexity**: This measures how the running time of an algorithm increases with the size of the input (often denoted as \\( n \\)). It is often expressed using Big O notation (e.g., \\( O(n) \\), \\( O(n^2) \\), \\( O(\\log n) \\)), which describes the upper bound on the time required\n"
          ]
        }
      ]
    },
    {
      "cell_type": "markdown",
      "source": [
        "###3rd prompt"
      ],
      "metadata": {
        "id": "n1OwZfAhkuBv"
      }
    },
    {
      "cell_type": "code",
      "source": [
        "ThirdUserContent = \"<some content>\""
      ],
      "metadata": {
        "id": "oJLEhjbSk8gE"
      },
      "execution_count": 20,
      "outputs": []
    },
    {
      "cell_type": "code",
      "source": [
        "chatMessages=[\n",
        "    {\n",
        "        \"role\": \"system\", \"content\": InitialSystemContent\n",
        "    },\n",
        "    {\n",
        "        \"role\": \"user\",\n",
        "        \"content\": FirstUserContent,\n",
        "    },\n",
        "    {\n",
        "        \"role\": \"assistant\",\n",
        "        \"content\": FirstAssistantContent,\n",
        "    },\n",
        "    {\n",
        "        \"role\": \"user\",\n",
        "        \"content\": SecondUserContent,\n",
        "    },\n",
        "    {\n",
        "        \"role\": \"assistant\",\n",
        "        \"content\": SecondAssistantContent,\n",
        "    },\n",
        "    {\n",
        "        \"role\": \"user\",\n",
        "        \"content\": ThirdUserContent,\n",
        "    },\n",
        "]"
      ],
      "metadata": {
        "id": "IgcFKH1YlOu4"
      },
      "execution_count": 21,
      "outputs": []
    },
    {
      "cell_type": "code",
      "source": [
        "print(chatMessages)"
      ],
      "metadata": {
        "colab": {
          "base_uri": "https://localhost:8080/"
        },
        "id": "hUY_FAiblngZ",
        "outputId": "45765192-ba48-4ff6-bbb2-e8b45ef849d8"
      },
      "execution_count": 22,
      "outputs": [
        {
          "output_type": "stream",
          "name": "stdout",
          "text": [
            "[{'role': 'system', 'content': 'You are a helpful teacher.'}, {'role': 'user', 'content': 'Are there other measures than time complexity for an algorithm?'}, {'role': 'assistant', 'content': \"Yes, there are several other measures for evaluating algorithms beyond time complexity. Here are some of the most important ones:\\n\\n1. **Space Complexity**: This measures the amount of memory an algorithm uses relative to the input size. It includes both the auxiliary space used by the algorithm and the space required for the input.\\n\\n2. **Time Complexity**: Although you're already familiar with this, it's worth reiterating that time complexity provides an estimate of the time an algorithm takes to complete as a function of the\"}, {'role': 'user', 'content': 'What is it?'}, {'role': 'assistant', 'content': \"Certainly! Here's a brief overview of key measures for evaluating algorithms, including time and space complexity, as well as several others:\\n\\n1. **Time Complexity**: This measures how the running time of an algorithm increases with the size of the input (often denoted as \\\\( n \\\\)). It is often expressed using Big O notation (e.g., \\\\( O(n) \\\\), \\\\( O(n^2) \\\\), \\\\( O(\\\\log n) \\\\)), which describes the upper bound on the time required\"}, {'role': 'user', 'content': '<some content>'}]\n"
          ]
        }
      ]
    },
    {
      "cell_type": "code",
      "source": [
        "response = client.chat.completions.create(model=gptModel, messages=chatMessages, n=chatCompletionChoices, temperature=samplingTemperature,max_completion_tokens=maxCompletionTokens, top_p=nucleusSampling)"
      ],
      "metadata": {
        "id": "dxvc-yxCl1--"
      },
      "execution_count": 23,
      "outputs": []
    },
    {
      "cell_type": "code",
      "source": [
        "ThirdAssistantContent = response.choices[0].message.content\n",
        "#Force assitant message to be something: ThirdAssistantContent = \"<something>\""
      ],
      "metadata": {
        "id": "qrluUrmfmC7I"
      },
      "execution_count": 24,
      "outputs": []
    },
    {
      "cell_type": "code",
      "source": [
        "print(ThirdAssistantContent)"
      ],
      "metadata": {
        "colab": {
          "base_uri": "https://localhost:8080/"
        },
        "id": "QFjLzydvmOmb",
        "outputId": "8994171a-2af3-42c6-dc36-1e42e4de8ad6"
      },
      "execution_count": 25,
      "outputs": [
        {
          "output_type": "stream",
          "name": "stdout",
          "text": [
            "It looks like you might be trying to share some content or ask a question related to it. However, I can't see any specific content you intended to include. Could you please clarify or specify your question? This way, I can provide the best assistance possible!\n"
          ]
        }
      ]
    },
    {
      "cell_type": "markdown",
      "source": [
        "#Exercises"
      ],
      "metadata": {
        "id": "p1fwf3DB_lOx"
      }
    },
    {
      "cell_type": "markdown",
      "source": [
        "Answering the questions below you may benefit from these references:  \n",
        "\n",
        "\n",
        "1.   Chat completion parameters : https://platform.openai.com/docs/api-reference/chat/create\n",
        "2.   ChatGPT Prompts Library: https://gptbot.io/chatgpt-prompts/\n",
        "3.   Models overview: https://platform.openai.com/docs/models\n",
        "\n"
      ],
      "metadata": {
        "id": "XUSB9DnTBki3"
      }
    },
    {
      "cell_type": "markdown",
      "source": [
        "1. Establish your own chat sequence with max 3. prompts (unless you extend the notebook with additional prompts). You may start with a prompt from the  'ChatGPT Prompts Library' as mentioned above.  \n",
        "Answer: ?"
      ],
      "metadata": {
        "id": "bhE77NaXAwzS"
      }
    },
    {
      "cell_type": "markdown",
      "source": [],
      "metadata": {
        "id": "YlV_25_7KDu0"
      }
    },
    {
      "cell_type": "markdown",
      "source": [
        "2. Does it make any difference, if you force assistants 'content' to be somethings else, than that received in the previous reply from ChatGPT. Technically you can do this removing one or more '#Force assitant message to be something:' and specify something else.    \n",
        "Answer: ?"
      ],
      "metadata": {
        "id": "mXU-PEtZA0Vt"
      }
    },
    {
      "cell_type": "markdown",
      "source": [
        "3. Explain the 'model' parameter specified by the 'gptModel' variable.      \n",
        "Answer: ?"
      ],
      "metadata": {
        "id": "m0fNJEjSG5Aq"
      }
    },
    {
      "cell_type": "markdown",
      "source": [
        "4. Explain the 'messages' parameter specified by the 'chatMessages' variable.      \n",
        "Answer: ?  "
      ],
      "metadata": {
        "id": "MnyEfPT3HkRC"
      }
    },
    {
      "cell_type": "markdown",
      "source": [
        "5. Explain the 'n' parameter specified by the 'chatCompletionChoices' variable.      \n",
        "Answer: ?  "
      ],
      "metadata": {
        "id": "W0ipFRpcH4-L"
      }
    },
    {
      "cell_type": "markdown",
      "source": [
        "6. Explain the 'temperature' parameter specified by the 'samplingTemperature' variable.      \n",
        "Answer: ?"
      ],
      "metadata": {
        "id": "Q2RxcWOzIVM3"
      }
    },
    {
      "cell_type": "markdown",
      "source": [
        "7. Explain the 'max_completion_tokens' parameter specified by the 'maxCompletionTokens' variable.      \n",
        "Answer: ?  "
      ],
      "metadata": {
        "id": "MwNggaKXIrFw"
      }
    },
    {
      "cell_type": "markdown",
      "source": [
        "8. Explain the 'top_p' parameter specified by the 'nucleusSampling' variable.      \n",
        "Answer: ?    "
      ],
      "metadata": {
        "id": "QW7wpSdKI_ed"
      }
    }
  ]
}