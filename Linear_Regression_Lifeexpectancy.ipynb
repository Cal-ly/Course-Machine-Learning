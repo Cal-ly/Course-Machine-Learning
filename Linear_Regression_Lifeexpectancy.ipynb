{
  "nbformat": 4,
  "nbformat_minor": 0,
  "metadata": {
    "colab": {
      "provenance": [],
      "authorship_tag": "ABX9TyP/MuIk8gG+AUFskX0Fvp31",
      "include_colab_link": true
    },
    "kernelspec": {
      "name": "python3",
      "display_name": "Python 3"
    },
    "language_info": {
      "name": "python"
    }
  },
  "cells": [
    {
      "cell_type": "markdown",
      "metadata": {
        "id": "view-in-github",
        "colab_type": "text"
      },
      "source": [
        "<a href=\"https://colab.research.google.com/github/jpandersen61/Machine-Learning/blob/main/Linear_Regression_Lifeexpectancy.ipynb\" target=\"_parent\"><img src=\"https://colab.research.google.com/assets/colab-badge.svg\" alt=\"Open In Colab\"/></a>"
      ]
    },
    {
      "cell_type": "markdown",
      "source": [
        "# Linear Regression - Life expectancy\n",
        "\n",
        "---\n",
        "\n"
      ],
      "metadata": {
        "id": "em2BMG8OKGvs"
      }
    },
    {
      "cell_type": "markdown",
      "source": [
        "The purpose of this assignment is to work with some of the elements from in the End-to-End Project AI/Machine Learning project model. We are interested in predicting Life expectancy with the final model.\n",
        "\n",
        "We will work with et dataset from Kaggle: https://www.kaggle.com/datasets/kumarajarshi/life-expectancy-who?resource=download"
      ],
      "metadata": {
        "id": "6Hk3iAytLMvr"
      }
    },
    {
      "cell_type": "markdown",
      "source": [
        "### Ensure that we use Python 3.7 or above:"
      ],
      "metadata": {
        "id": "cifewyhF9BAO"
      }
    },
    {
      "cell_type": "code",
      "execution_count": null,
      "metadata": {
        "id": "8KOQTcKX8bg2"
      },
      "outputs": [],
      "source": [
        "import sys\n",
        "\n",
        "assert sys.version_info >= (3, 7)"
      ]
    },
    {
      "cell_type": "markdown",
      "source": [
        "### Ensure that we use at least Scikit-Learn 1.0.1"
      ],
      "metadata": {
        "id": "MdUYfAR79gu8"
      }
    },
    {
      "cell_type": "code",
      "source": [
        "from packaging import version\n",
        "import sklearn\n",
        "\n",
        "assert version.parse(sklearn.__version__) >= version.parse(\"1.0.1\")"
      ],
      "metadata": {
        "id": "cEyMjLcU86Dw"
      },
      "execution_count": null,
      "outputs": []
    },
    {
      "cell_type": "markdown",
      "source": [
        "### Let us set up the fonts in mathplotlib"
      ],
      "metadata": {
        "id": "y2xAwFNX-Q0D"
      }
    },
    {
      "cell_type": "code",
      "source": [
        "import matplotlib.pyplot as plt\n",
        "\n",
        "plt.rc('font', size=11)\n",
        "plt.rc('axes', labelsize=12, titlesize=12)\n",
        "plt.rc('legend', fontsize=11)\n",
        "plt.rc('xtick', labelsize=9)\n",
        "plt.rc('ytick', labelsize=9)"
      ],
      "metadata": {
        "id": "gwi4DUJV-K1b"
      },
      "execution_count": null,
      "outputs": []
    },
    {
      "cell_type": "markdown",
      "source": [
        "### Import important libraries 'numpy' and 'pandas'"
      ],
      "metadata": {
        "id": "tvKLkp_dHHwf"
      }
    },
    {
      "cell_type": "code",
      "source": [
        "import numpy as np\n",
        "import pandas as pd"
      ],
      "metadata": {
        "id": "gK4Onnhy-6o8"
      },
      "execution_count": null,
      "outputs": []
    },
    {
      "cell_type": "markdown",
      "source": [
        "# Make reference to life satifaction data file"
      ],
      "metadata": {
        "id": "zZoc-LzQHYcB"
      }
    },
    {
      "cell_type": "code",
      "source": [
        "datafile = \"https://raw.githubusercontent.com/jpandersen61/Machine-Learning/refs/heads/main/Life%20Expectancy%20Data%20(WHO).csv\"\n",
        "\n"
      ],
      "metadata": {
        "id": "1EB-X59l_zgg"
      },
      "execution_count": null,
      "outputs": []
    },
    {
      "cell_type": "markdown",
      "source": [
        "### Excercise(s):"
      ],
      "metadata": {
        "id": "GLUiNLM-HqXJ"
      }
    },
    {
      "cell_type": "markdown",
      "source": [
        "1.   Try viewing this file in your internet browser\n",
        "\n",
        "\n"
      ],
      "metadata": {
        "id": "Xd2829tIAimY"
      }
    },
    {
      "cell_type": "markdown",
      "source": [
        "### Load the data file"
      ],
      "metadata": {
        "id": "yWx2mhWjIMq4"
      }
    },
    {
      "cell_type": "code",
      "source": [
        "lifeExp = pd.read_csv(datafile)\n"
      ],
      "metadata": {
        "id": "9g1ETm1Y_Q2c"
      },
      "execution_count": null,
      "outputs": []
    },
    {
      "cell_type": "markdown",
      "source": [
        "### Excercise(s):"
      ],
      "metadata": {
        "id": "BINlBg27NEE9"
      }
    },
    {
      "cell_type": "markdown",
      "source": [
        "1.   Check the `type(...)` of `lifeExp` in a code cell. It is expected to be `DataFrame`. You may find out, what can be done with this class?\n",
        "2.   Inspect the first 5 intances of the data with the `head()` method\n",
        "\n"
      ],
      "metadata": {
        "id": "3Ite2NZPNNrE"
      }
    },
    {
      "cell_type": "markdown",
      "source": [
        "### Excercises"
      ],
      "metadata": {
        "id": "9G1U7s9oPvBV"
      }
    },
    {
      "cell_type": "markdown",
      "source": [
        "\n",
        "\n",
        "\n",
        "\n",
        "\n",
        "1.   We are not satisfied the coloumn identifiers, which will cause problems with Python.\n",
        "2.   So we rename the indentifiers in the code cell below -> Nothing to be done except from running the code cell below\n",
        "\n",
        "\n"
      ],
      "metadata": {
        "id": "oCULOb8JOuYL"
      }
    },
    {
      "cell_type": "code",
      "source": [
        "lifeExp.rename(columns={\n",
        "    'Life expectancy ':'LifeExpectancy',\n",
        "    'Adult Mortality':'AdultMortality',\n",
        "    'Measles ':'Measles',\n",
        "    'infant deaths':'InfantDeaths',\n",
        "    'percentage expenditure':'PercentageExpenditure',\n",
        "    ' BMI ':'BMI' ,\n",
        "    'Hepatitis B':'HepatitisB',\n",
        "    'under-five deaths ': 'Under5Deaths',\n",
        "    'Total expenditure':'TotalExpenditure',\n",
        "    ' HIV/AIDS':'HIVAIDS',\n",
        "    ' thinness  1-19 years':'Thinness1To19Years',\n",
        "    ' thinness 5-9 years':'Thinness5To9Years',\n",
        "    'Income composition of resources':'IncomeCompositionOfResources',\n",
        "    'Diphtheria ':'Diphtheria' },  inplace=True)"
      ],
      "metadata": {
        "id": "-XUrwe5PmWQc"
      },
      "execution_count": null,
      "outputs": []
    },
    {
      "cell_type": "markdown",
      "source": [
        "### Excercises"
      ],
      "metadata": {
        "id": "MjzMPBVKoKBN"
      }
    },
    {
      "cell_type": "markdown",
      "source": [
        "1.   Now again inspect the first 5 intances of the data with the `head()` method\n",
        "2.   Inspect the dataset with the `info()` method. Note data types. Are there some data missing?\n",
        "\n"
      ],
      "metadata": {
        "id": "zJKVM1oKQG-z"
      }
    },
    {
      "cell_type": "markdown",
      "source": [
        "### Excercise(s)"
      ],
      "metadata": {
        "id": "JBJfOo9HFmhK"
      }
    },
    {
      "cell_type": "markdown",
      "source": [
        "1. Make histogram plots om the dataset - e.g. with a code cell that contains som code like this\n",
        "```\n",
        "lifeExp.hist(bins=50, figsize=(18, 12))\n",
        "plt.show()\n",
        "```\n",
        "2.   Are all the features nicely bell-shaped? If not leave it for now, because we may do something something about it later, if we are not satisfied with the performance of the model.\n",
        "\n",
        "\n",
        "\n",
        "\n"
      ],
      "metadata": {
        "id": "IuZ12x0WF6QK"
      }
    },
    {
      "cell_type": "markdown",
      "source": [
        "### Excercise(s)"
      ],
      "metadata": {
        "id": "R2n6OfxmVmME"
      }
    },
    {
      "cell_type": "markdown",
      "source": [
        "\n",
        "\n",
        "1.   Establish the correlations between the features of the dataset. Use a piece of code like this:\n",
        "```\n",
        "corr_matrix = lifeExp.corr(numeric_only=True)\n",
        "```\n",
        "\n",
        "\n",
        "2.   Focus on \"LifeExpectancy\" with a piece of code like this\n",
        "```\n",
        "corr_matrix[\"LifeExpectancy\"].sort_values(ascending=False)\n",
        "```\n",
        "Which the features, that best for predicting \"LifeExpectancy\" ?\n",
        "\n",
        "\n",
        "\n"
      ],
      "metadata": {
        "id": "MkbhPmpgVwQE"
      }
    },
    {
      "cell_type": "markdown",
      "source": [
        "###Excercise(s)"
      ],
      "metadata": {
        "id": "jeBdZPh-X9iW"
      }
    },
    {
      "cell_type": "markdown",
      "source": [
        "1.   Plot the most promissing features against 'LifeExpectancy' with a piece of code like this:\n",
        "```\n",
        "from pandas.plotting import scatter_matrix\n",
        "promissingFeatures = ['LifeExpectancy', <promissing features>]\n",
        "scatter_matrix(lifeExp[promissingFeatures], figsize=(18, 12))\n",
        "plt.show()\n",
        "```\n",
        "\n",
        "See anything?\n",
        "\n",
        "2.   Do something similar with the least promising features.\n"
      ],
      "metadata": {
        "id": "FMHSmJ9OYB4M"
      }
    },
    {
      "cell_type": "markdown",
      "source": [
        "###Excercise(s)"
      ],
      "metadata": {
        "id": "fEPopNqfaPWu"
      }
    },
    {
      "cell_type": "markdown",
      "source": [
        "1.   Define a list of not so promissing features to be dropped -> Run the cell below\n",
        "2.   The extract the list of promissing features, that model are going to learn from, with a code fragment like this:\n",
        "```\n",
        "lifeExpLearn=lifeExp.drop(<Features to be dropped>, axis=1)\n",
        "```\n",
        "3.   Now check our learning set with `info()` method\n",
        "\n",
        "\n",
        "\n",
        "\n",
        "\n",
        "\n",
        "\n"
      ],
      "metadata": {
        "id": "JQP-Ct4RaT8d"
      }
    },
    {
      "cell_type": "code",
      "source": [
        "featuresToBeDropped={'Country',\n",
        "                     'Status',\n",
        "                     'Diphtheria',\n",
        "                     'Polio',\n",
        "                     'GDP',\n",
        "                     'Alcohol',\n",
        "                     'PercentageExpenditure',\n",
        "                     'HepatitisB',\n",
        "                     'TotalExpenditure',\n",
        "                     'Year',\n",
        "                     'Population',\n",
        "                     'Measles',\n",
        "                     'InfantDeaths',\n",
        "                     'Under5Deaths',\n",
        "                     'Thinness5To9Years',\n",
        "                     'Thinness1To19Years'}"
      ],
      "metadata": {
        "id": "1YNSsH6Il6gp"
      },
      "execution_count": null,
      "outputs": []
    },
    {
      "cell_type": "markdown",
      "source": [
        "###Excercise(s)"
      ],
      "metadata": {
        "id": "vFMpneN5dS_l"
      }
    },
    {
      "cell_type": "markdown",
      "source": [
        "It should appearent that some values are still missing. We are now going to fix this with the `SimpleImputer` class:\n",
        "\n",
        "1.   Import the `SimpleImputer` class with a statement like this, because we believe that the median value is the best replacement:\n",
        "```\n",
        "imputer = SimpleImputer(strategy=\"median\")\n",
        "```\n",
        "\n",
        "2.   'Fit' the with our learning set - e.g.:\n",
        "```\n",
        "imputer.fit(lifeExpLearn)\n",
        "```\n",
        "\n",
        "3.   Make the actual replacement with a piece of code like this:\n",
        "```\n",
        "transformation=imputer.transform(lifeExpLearn)\n",
        "```\n",
        "\n",
        "4.   Note the `type()` of `transformation`\n",
        "\n",
        "5.   Re-combine our `transformation` into a `Dataframe` - like this:\n",
        "```\n",
        "lifeExpLearnCleaned = pd.DataFrame(transformation, columns=lifeExpLearn.columns,index=lifeExpLearn.index)\n",
        "```\n",
        "\n",
        "6.   Now check missing values - e.g.\n",
        "```\n",
        "lifeExpLearnCleaned.info()\n",
        "```\n",
        "Any thing missing now?\n",
        "\n",
        "\n",
        "\n",
        "\n",
        "\n",
        "\n",
        "\n"
      ],
      "metadata": {
        "id": "Uq7R3PvOdo8l"
      }
    },
    {
      "cell_type": "markdown",
      "source": [
        "### Excercise(s)"
      ],
      "metadata": {
        "id": "cj4YKu6oFI3Q"
      }
    },
    {
      "cell_type": "markdown",
      "source": [
        "1.   Go on with the `LinearRegression` as you did in a previous assignment. You may extract input for it like this:\n",
        "```\n",
        "X_features = lifeExpLearnCleaned.drop(\"LifeExpectancy\", axis=1)\n",
        "y_labels = lifeExpLearnCleaned[\"LifeExpectancy\"].values\n",
        "```\n",
        "\n",
        "\n",
        "\n",
        "\n"
      ],
      "metadata": {
        "id": "QVuWj8NFnqs-"
      }
    }
  ]
}