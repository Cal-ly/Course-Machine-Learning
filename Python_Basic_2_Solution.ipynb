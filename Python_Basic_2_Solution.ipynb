{
  "nbformat": 4,
  "nbformat_minor": 0,
  "metadata": {
    "colab": {
      "provenance": [],
      "authorship_tag": "ABX9TyPIeYE1hb6PRhxLillfNL5R",
      "include_colab_link": true
    },
    "kernelspec": {
      "name": "python3",
      "display_name": "Python 3"
    },
    "language_info": {
      "name": "python"
    }
  },
  "cells": [
    {
      "cell_type": "markdown",
      "metadata": {
        "id": "view-in-github",
        "colab_type": "text"
      },
      "source": [
        "<a href=\"https://colab.research.google.com/github/jpandersen61/Machine-Learning/blob/main/Python_Basic_2_Solution.ipynb\" target=\"_parent\"><img src=\"https://colab.research.google.com/assets/colab-badge.svg\" alt=\"Open In Colab\"/></a>"
      ]
    },
    {
      "cell_type": "markdown",
      "source": [
        "# Python Basics No.2"
      ],
      "metadata": {
        "id": "bYTAUEE1rsMo"
      }
    },
    {
      "cell_type": "markdown",
      "source": [
        "This is a crash course in basic Python. The goal is you will be able to utilize 2-dimensional lists, random numbers and understand the code used in the course. Together we are going to do a Python program, with some simple code. In order to keep a good speed no GUI no structure of program. Just coding.\n",
        "\n",
        "Useful links:\n",
        "\n",
        "https://www.w3schools.com/Python/default.asp\n",
        "\n",
        "https://docs.python.org/3/library/random.html\n",
        "\n",
        "https://www.tutorialspoint.com/python_data_structure/python_2darray.htm\n",
        "\n",
        "https://stackoverflow.com/questions/6142689/initialising-an-array-of-fixed-size-in-python\n"
      ],
      "metadata": {
        "id": "Xhoo0AWhrxym"
      }
    },
    {
      "cell_type": "markdown",
      "source": [
        "Assignment 1: Application program two different lists"
      ],
      "metadata": {
        "id": "tmooyfSNY3Bs"
      }
    },
    {
      "cell_type": "markdown",
      "source": [
        "Declare two different lists:\n",
        "\n",
        "```\n",
        "color = [\"red\", \"big\", \"tasty\"]\n",
        "fruits = [\"apple\", \"banana\", \"cherry\"]\n",
        "```\n",
        "\n",
        "Now for each item in color print out each item in fruits with the respective color, so the output looks similar to:\n",
        "\n",
        "```\n",
        "red apple\n",
        "red banana\n",
        "red cherry\n",
        "big apple\n",
        "big banana\n",
        "big cherry\n",
        "tasty apple\n",
        "tasty banana\n",
        "tasty cherry\n",
        "```\n",
        "Tip: Nested loops!"
      ],
      "metadata": {
        "id": "giMW4peYZG9E"
      }
    },
    {
      "cell_type": "code",
      "source": [
        "color = [\"red\", \"big\", \"tasty\"]\n",
        "fruits = [\"apple\", \"banana\", \"cherry\"]"
      ],
      "metadata": {
        "id": "-4dS-Af5Z4jV"
      },
      "execution_count": null,
      "outputs": []
    },
    {
      "cell_type": "code",
      "source": [
        "for col in color:\n",
        "    for fruit in fruits:\n",
        "        print(col, fruit)\n"
      ],
      "metadata": {
        "colab": {
          "base_uri": "https://localhost:8080/"
        },
        "id": "oebV-jtPaRF0",
        "outputId": "2260643b-ac70-4e1e-c721-7566df89e609"
      },
      "execution_count": null,
      "outputs": [
        {
          "output_type": "stream",
          "name": "stdout",
          "text": [
            "red apple\n",
            "red banana\n",
            "red cherry\n",
            "big apple\n",
            "big banana\n",
            "big cherry\n",
            "tasty apple\n",
            "tasty banana\n",
            "tasty cherry\n"
          ]
        }
      ]
    },
    {
      "cell_type": "markdown",
      "source": [
        "### Assignment 2: Application program 2-dim arrays (list) of numbers"
      ],
      "metadata": {
        "id": "o7-uHTsofar1"
      }
    },
    {
      "cell_type": "markdown",
      "source": [
        "Lists with sub-lists are actually the Python version of 2-dim arrays.\n",
        "Declare a list with four sub-lists:\n",
        "\n",
        "```\n",
        "T = [[11, 12, 5, 2], [15, 6, 10], [10, 8, 12, 5], [12,15,8,6]]\n",
        "print(T)\n",
        "```\n",
        "\n",
        "Try:\n",
        "\n",
        "```\n",
        "T[1][2] = 99\n",
        "```\n",
        "\n",
        "Which element is changed to the value 99? Print out and see if you were right?\n",
        "Add a nested for-loop so for each sub-list, slist, in T print each element, elem, in sub-list.\n"
      ],
      "metadata": {
        "id": "7fpeFWPIdWw8"
      }
    },
    {
      "cell_type": "code",
      "source": [
        "T = [[11, 12, 5, 2], [15, 6, 10], [10, 8, 12, 5], [12,15,8,6]]\n",
        "print(T)\n",
        "T[1][2] = 99\n",
        "print(T)"
      ],
      "metadata": {
        "colab": {
          "base_uri": "https://localhost:8080/"
        },
        "id": "WBUUlq-kd-zd",
        "outputId": "f490cbb8-eba8-4fdb-c92d-79cea285e405"
      },
      "execution_count": null,
      "outputs": [
        {
          "output_type": "stream",
          "name": "stdout",
          "text": [
            "[[11, 12, 5, 2], [15, 6, 10], [10, 8, 12, 5], [12, 15, 8, 6]]\n",
            "[[11, 12, 5, 2], [15, 6, 99], [10, 8, 12, 5], [12, 15, 8, 6]]\n"
          ]
        }
      ]
    },
    {
      "cell_type": "code",
      "source": [
        "for sublist in T:\n",
        "    for elem in sublist:\n",
        "        print(elem)"
      ],
      "metadata": {
        "colab": {
          "base_uri": "https://localhost:8080/"
        },
        "id": "qN48-CJMeiw9",
        "outputId": "0d1e2fad-b111-4244-f010-b2e57e489f39"
      },
      "execution_count": null,
      "outputs": [
        {
          "output_type": "stream",
          "name": "stdout",
          "text": [
            "11\n",
            "12\n",
            "5\n",
            "2\n",
            "15\n",
            "6\n",
            "99\n",
            "10\n",
            "8\n",
            "12\n",
            "5\n",
            "12\n",
            "15\n",
            "8\n",
            "6\n"
          ]
        }
      ]
    },
    {
      "cell_type": "markdown",
      "source": [
        "### Assignment 3: Random numbers"
      ],
      "metadata": {
        "id": "bBFFDuLKhCdN"
      }
    },
    {
      "cell_type": "markdown",
      "source": [
        "You are to do a program, which can initialize an integer list holding 10 elements of random numbers in the interval `[0,100]` using the module random.\n",
        "Your program must resemble the following template:\n",
        "\n",
        "```\n",
        "import random\n",
        "\n",
        "data = [] # create an empty list\n",
        "while len(data) < 10:\n",
        " randNo= random.randint(0,100)\n",
        " data.append(randNo)\n",
        "print(data)\n",
        "```\n",
        "\n",
        "\n"
      ],
      "metadata": {
        "id": "7BxH3U06hV01"
      }
    },
    {
      "cell_type": "code",
      "source": [
        "import random\n",
        "\n",
        "data = [] # create an empty list\n",
        "while len(data) < 10:\n",
        " randNo= random.randint(0,100)\n",
        " data.append(randNo)\n",
        "print(data)"
      ],
      "metadata": {
        "colab": {
          "base_uri": "https://localhost:8080/"
        },
        "id": "HZRoVtiQh9hF",
        "outputId": "791f08f7-e8f0-4a6f-842d-7e242d09a8b3"
      },
      "execution_count": null,
      "outputs": [
        {
          "output_type": "stream",
          "name": "stdout",
          "text": [
            "[54, 37, 75, 85, 80, 83, 26, 94, 14, 38]\n"
          ]
        }
      ]
    },
    {
      "cell_type": "markdown",
      "source": [
        "Assignment 4: Random function"
      ],
      "metadata": {
        "id": "7hk7ejFgiIEV"
      }
    },
    {
      "cell_type": "markdown",
      "source": [
        "Create your own random method, which returns a list of random numbers.\n",
        "\n",
        "```\n",
        "def rand_func():\n",
        ". . . . . . .\n",
        "```\n",
        "\n"
      ],
      "metadata": {
        "id": "j1ZlqtJ_iUb8"
      }
    },
    {
      "cell_type": "code",
      "source": [
        "def rand_func():\n",
        "    data = [] # create an empty list\n",
        "    while len(data) < 10:\n",
        "        randNo= random.randint(0,100)\n",
        "        data.append(randNo)\n",
        "    return data"
      ],
      "metadata": {
        "id": "20M5nFniijqN"
      },
      "execution_count": null,
      "outputs": []
    },
    {
      "cell_type": "code",
      "source": [
        "rand_func()\n"
      ],
      "metadata": {
        "colab": {
          "base_uri": "https://localhost:8080/"
        },
        "id": "I6iCmFqqjUL9",
        "outputId": "2aa86b8c-ec08-45b0-b122-205bded7ffa3"
      },
      "execution_count": null,
      "outputs": [
        {
          "output_type": "execute_result",
          "data": {
            "text/plain": [
              "[100, 55, 89, 79, 19, 26, 73, 100, 32, 42]"
            ]
          },
          "metadata": {},
          "execution_count": 7
        }
      ]
    },
    {
      "cell_type": "markdown",
      "source": [
        "### Extra assignment: For the fast ones only\n"
      ],
      "metadata": {
        "id": "xvM-k11RkKSk"
      }
    },
    {
      "cell_type": "markdown",
      "source": [
        "Look at your `rand_func` method from the assignment.\n",
        "Introduce parameters defining the size of the list and the maximum integer number to be generated?"
      ],
      "metadata": {
        "id": "itwBoxbhkklV"
      }
    },
    {
      "cell_type": "code",
      "source": [
        "def rand_func(listSize, minVal, maxVal):\n",
        "    data = [] # create an empty list\n",
        "    while len(data) < listSize:\n",
        "        randNo= random.randint(minVal,maxVal)\n",
        "        data.append(randNo)\n",
        "    return data"
      ],
      "metadata": {
        "id": "O3b3H51Akt0k"
      },
      "execution_count": null,
      "outputs": []
    },
    {
      "cell_type": "code",
      "source": [
        "rand_func(15, 20, 60)"
      ],
      "metadata": {
        "colab": {
          "base_uri": "https://localhost:8080/"
        },
        "id": "chTKcGoallmV",
        "outputId": "d1c5f6ae-a1fa-4440-e51c-38e7805c46a8"
      },
      "execution_count": null,
      "outputs": [
        {
          "output_type": "execute_result",
          "data": {
            "text/plain": [
              "[56, 49, 46, 59, 30, 57, 37, 43, 44, 26, 36, 33, 39, 60, 33]"
            ]
          },
          "metadata": {},
          "execution_count": 9
        }
      ]
    },
    {
      "cell_type": "markdown",
      "source": [
        "Assignment X: Extra reward only for fast ones!"
      ],
      "metadata": {
        "id": "d2a1SkhEmM1W"
      }
    },
    {
      "cell_type": "markdown",
      "source": [
        "Here we want to calculate some numbers called Fibonacci numbers and save them in a list. The numbers are defined as:\n",
        "\n",
        "```\n",
        "i y[i]\n",
        "0 0\n",
        "1 1\n",
        "2 1 = 1+0\n",
        "3 2 = 1+1\n",
        "4 3 = 1+2\n",
        "5 5 = 3+2\n",
        "6 8 = 5+3\n",
        "7 13= 8+5\n",
        "```\n",
        "\n",
        "As you can see a Fibonacci number from a certain point is the sum of the two previous numbers. Do a loop so the respective elements in y is assigned the sum of the two previous elements.!!"
      ],
      "metadata": {
        "id": "FRZlxs3LmcrW"
      }
    },
    {
      "cell_type": "code",
      "source": [
        "def Fibonacci(i):\n",
        "    if i == 0:\n",
        "        return 0\n",
        "    elif i == 1:\n",
        "        return 1\n",
        "    else:\n",
        "        return Fibonacci(i-1) + Fibonacci(i-2)"
      ],
      "metadata": {
        "id": "1FgOt708nDp-"
      },
      "execution_count": null,
      "outputs": []
    },
    {
      "cell_type": "code",
      "source": [
        "Fibonacci(7)"
      ],
      "metadata": {
        "colab": {
          "base_uri": "https://localhost:8080/"
        },
        "id": "ti8Qgt2Xoheu",
        "outputId": "d13bf951-25c9-4401-fe56-442a31167101"
      },
      "execution_count": null,
      "outputs": [
        {
          "output_type": "execute_result",
          "data": {
            "text/plain": [
              "13"
            ]
          },
          "metadata": {},
          "execution_count": 11
        }
      ]
    }
  ]
}