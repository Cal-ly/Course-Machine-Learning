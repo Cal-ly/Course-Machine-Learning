{
  "cells": [
    {
      "cell_type": "markdown",
      "metadata": {
        "colab_type": "text",
        "id": "view-in-github"
      },
      "source": [
        "<a href=\"https://colab.research.google.com/github/jpandersen61/Machine-Learning/blob/main/Python_Basic_1.ipynb\" target=\"_parent\"><img src=\"https://colab.research.google.com/assets/colab-badge.svg\" alt=\"Open In Colab\"/></a>"
      ]
    },
    {
      "cell_type": "markdown",
      "metadata": {
        "id": "yH1uLJ2cLQOq"
      },
      "source": [
        "# Python Basic No. 1"
      ]
    },
    {
      "cell_type": "markdown",
      "metadata": {
        "id": "JyhUATVmJdy4"
      },
      "source": [
        "This is a crash course in basic Python. The goal is you will be able to read and understand the code used in the course. Together we are going to do a Python program with some simple code. In order to keep a good speed no GUI no structure of program. Just coding:\n",
        "*   Simple declarations\n",
        "*   Initialising & changing values\n",
        "*   Printing\n",
        "*   Maximum, minimum, sum and average of the elements in an integer array\n",
        "\n",
        "\n",
        "Useful links:\n",
        "\n",
        "https://www.w3schools.com/Python/default.asp\n",
        "\n",
        "https://docs.python.org/3/library/random.html\n",
        "\n",
        "https://www.tutorialspoint.com/python_data_structure/python_2darray.htm\n",
        "\n",
        "https://stackoverflow.com/questions/6142689/initialising-an-array-of-fixed-size-in-python"
      ]
    },
    {
      "cell_type": "markdown",
      "metadata": {
        "id": "GA3AwRECkMky"
      },
      "source": [
        "### Assignment 1: Application program, declaration"
      ]
    },
    {
      "cell_type": "markdown",
      "metadata": {
        "id": "7oppwZv0j7qS"
      },
      "source": [
        "Enter the following piece of code in the cell below:\n",
        "\n",
        "```\n",
        "int x = 1\n",
        "y = 3\n",
        "z = 5\n",
        "sum = x+y+z\n",
        "Print(sum)\n",
        "```\n",
        "\n",
        "Run the cell by clicking the arrow.\n",
        "\n",
        "Note: Fix case error and type declaration error.\n",
        "\n",
        "What did you learn?\n"
      ]
    },
    {
      "cell_type": "code",
      "execution_count": 2,
      "metadata": {
        "id": "G2rJDqH_grOg"
      },
      "outputs": [
        {
          "name": "stdout",
          "output_type": "stream",
          "text": [
            "9\n"
          ]
        }
      ],
      "source": [
        "x = 1\n",
        "y = 3\n",
        "z = 5\n",
        "sum = x + y + z\n",
        "print(sum)"
      ]
    },
    {
      "cell_type": "markdown",
      "metadata": {
        "id": "cc-w9JWOm8qR"
      },
      "source": [
        "Now print out the result with a text by calling `print`:\n",
        "\n",
        "```\n",
        "print(\"Sum is: \" + sum)\n",
        "print(\"Sum is: \" + str(sum) + \" DKK\")\n",
        "#Finally use the f-strings\n",
        "print(f\"Sum is: + {sum} + DKK\")\n",
        "```\n",
        "\n",
        "Unfortunately there are errors. Correct the errors.\n"
      ]
    },
    {
      "cell_type": "code",
      "execution_count": 5,
      "metadata": {
        "id": "KdO2DOVjneeg"
      },
      "outputs": [],
      "source": []
    },
    {
      "cell_type": "markdown",
      "metadata": {
        "id": "u4jM536upAvK"
      },
      "source": [
        "### Assignment 2: Application program, loops"
      ]
    },
    {
      "cell_type": "markdown",
      "metadata": {
        "id": "zWLtBjsgpD7x"
      },
      "source": [
        "For-loops in Python are actually for-each loops.\n",
        "Try to print out a list of squares:\n",
        "\n",
        "```\n",
        "for i in range(1, 10):\n",
        "    print(i,i*i)\n",
        "print()\n",
        "```\n",
        "\n",
        "Indent both `print()` statements. What happens? Explain.\n",
        "\n",
        "Undo the last indentation.\n",
        "\n",
        "Change the `print(i,i*i)` statement to `print(i,i*i, end = \" \")`\n",
        "\n"
      ]
    },
    {
      "cell_type": "code",
      "execution_count": 5,
      "metadata": {
        "id": "o5hugu79pZh6"
      },
      "outputs": [],
      "source": []
    },
    {
      "cell_type": "markdown",
      "metadata": {
        "id": "Gleqy1tDrxEO"
      },
      "source": [
        "### Assignment 3: Application program, nested for loops"
      ]
    },
    {
      "cell_type": "markdown",
      "metadata": {
        "id": "S0SyyKSXtFRT"
      },
      "source": [
        "A multiplication table (10*10) looks like this:\n",
        "\n",
        "```\n",
        " 1  2  3  4  5  6   7  8  9 10\n",
        " 2  4  6  8 10 12  14 16 18 20\n",
        " 3  6  9 12  .  .\n",
        " 4  8 12  .  .  .\n",
        " 5 10  .  .  .  .\n",
        " 6 12\n",
        " 7 14\n",
        " 8 16\n",
        " 9 18\n",
        "10 20\n",
        "```\n",
        "Now you have to print out the numbers in the table using nested loops; i.e. a for-loop inside another for-loop. The formatting (a real table format) does not matter; it is the loops and content we focus on.\n",
        "Tip: `print(i*j, end = “ “)`\n"
      ]
    },
    {
      "cell_type": "code",
      "execution_count": 5,
      "metadata": {
        "id": "40VIq7SjuyIM"
      },
      "outputs": [],
      "source": []
    },
    {
      "cell_type": "markdown",
      "metadata": {
        "id": "8LszHARf1R8z"
      },
      "source": [
        "### Assignment 4: Application program, while-loops"
      ]
    },
    {
      "cell_type": "markdown",
      "metadata": {
        "id": "sSTzLmBV1fr9"
      },
      "source": [
        "Try to print out a list of squares using a while-loop:\n",
        "\n",
        "```\n",
        "i = 1\n",
        "while (i<=10):\n",
        "    ........\n",
        "```\n",
        "\n",
        "Write the rest of the code lines yourself in the cell below:"
      ]
    },
    {
      "cell_type": "code",
      "execution_count": 5,
      "metadata": {
        "id": "epvbkXT01z1z"
      },
      "outputs": [],
      "source": []
    },
    {
      "cell_type": "markdown",
      "metadata": {
        "id": "jcL-sfO22N6k"
      },
      "source": [
        "### Assignment 5: Application program, if-else"
      ]
    },
    {
      "cell_type": "markdown",
      "metadata": {
        "id": "x0fiUy3I2VHl"
      },
      "source": [
        "Try to print out the maximum of two numbers: `x` and `y`\n",
        "\n",
        "```\n",
        "x = 7\n",
        "y = 23\n",
        "if (x > y):\n",
        "    print(\"x: \"+ str(x))\n",
        "else:\n",
        "    print(\"y: \"+ str(y))\n",
        "```\n",
        "\n",
        "Run in the cell below"
      ]
    },
    {
      "cell_type": "code",
      "execution_count": 5,
      "metadata": {
        "id": "NfdUi5s53Sh1"
      },
      "outputs": [],
      "source": []
    },
    {
      "cell_type": "markdown",
      "metadata": {
        "id": "K0OpEGLU3whu"
      },
      "source": [
        "### Assignment 6: Method maximum of two numbers"
      ]
    },
    {
      "cell_type": "markdown",
      "metadata": {
        "id": "hU9Rc5JP326U"
      },
      "source": [
        "Extend with a new method `findMax(x,y)`, which returns the maximum of the parameters\n",
        "\n",
        "```\n",
        "def findMax(x,y):\n",
        "    if (x > y):\n",
        "        . . . . . .\n",
        "```\n",
        "Call the method and print out the maximum value.\n",
        "Tip: Be inspired by assignment 5 but remember return !"
      ]
    },
    {
      "cell_type": "code",
      "execution_count": 5,
      "metadata": {
        "id": "pT_CY9co4ln3"
      },
      "outputs": [],
      "source": []
    },
    {
      "cell_type": "code",
      "execution_count": 5,
      "metadata": {
        "id": "TVjiJ9ZX5ORt"
      },
      "outputs": [],
      "source": []
    },
    {
      "cell_type": "markdown",
      "metadata": {
        "id": "nmg7gcR95rx1"
      },
      "source": [
        "Assignment 7: Application program 1-dim array (list) of numbers"
      ]
    },
    {
      "cell_type": "markdown",
      "metadata": {
        "id": "02iG39DQ50ao"
      },
      "source": [
        "Lists are actually the Python version of 1-dim arrays.\n",
        "Declare a list with the primes:\n",
        "\n",
        "```\n",
        "data = [1,2,3,5,7,11,13,17,19,23]\n",
        "print(data)\n",
        "for item in data:\n",
        "    print(item, end = \" \")\n",
        "```\n",
        "\n",
        "Run in the cell below. Explain the output."
      ]
    },
    {
      "cell_type": "code",
      "execution_count": 5,
      "metadata": {
        "id": "8w29argF7DtG"
      },
      "outputs": [],
      "source": []
    },
    {
      "cell_type": "markdown",
      "metadata": {
        "id": "-Oj0FY217fU8"
      },
      "source": [
        "Add some more lines:\n",
        "\n",
        "```\n",
        "print(data[3])\n",
        "data[0] = 17\n",
        "data.append(37)\n",
        "print(data)\n",
        "```\n",
        "Run in the cell below. What do you expect to see?"
      ]
    },
    {
      "cell_type": "markdown",
      "metadata": {
        "id": "XzOLzttD7AIs"
      },
      "source": []
    },
    {
      "cell_type": "code",
      "execution_count": 5,
      "metadata": {
        "id": "nGVlHK8B77Pt"
      },
      "outputs": [],
      "source": []
    },
    {
      "cell_type": "markdown",
      "metadata": {
        "id": "mKMj-whU8JUb"
      },
      "source": [
        "Add more lines:\n",
        "\n",
        "```\n",
        "data.insert(4,99)\n",
        "print(data)\n",
        "```\n",
        "\n",
        "Run it in the cell below. What do you expect to see now?\n",
        "What did you learn? Difference between append and insert."
      ]
    },
    {
      "cell_type": "code",
      "execution_count": 5,
      "metadata": {
        "id": "IAf_FFGN8hjU"
      },
      "outputs": [],
      "source": []
    },
    {
      "cell_type": "markdown",
      "metadata": {
        "id": "E2eM0QqE9Jvv"
      },
      "source": [
        "### Assignment 8: Method maximum"
      ]
    },
    {
      "cell_type": "markdown",
      "metadata": {
        "id": "lipw4y6s9aDb"
      },
      "source": [
        "Extend with a new method find_max(data), which returns the maximum of the numbers in the list data.\n",
        "\n",
        "\n",
        "```\n",
        "def find_max(data):\n",
        "    my_max_ = max(data)\n",
        "    return my_max\n",
        "```\n",
        "\n",
        "Call find_max with data as parameter:\n",
        "\n",
        "```\n",
        "max_num = find_max(data)\n",
        "```\n",
        "\n",
        "and print out the maximum number."
      ]
    },
    {
      "cell_type": "code",
      "execution_count": 5,
      "metadata": {
        "id": "YM89xi96-T1t"
      },
      "outputs": [],
      "source": []
    },
    {
      "cell_type": "code",
      "execution_count": 5,
      "metadata": {
        "id": "Y4Qj4fRA-HY0"
      },
      "outputs": [],
      "source": []
    },
    {
      "cell_type": "markdown",
      "metadata": {
        "id": "qYDzb0fo_vst"
      },
      "source": [
        "Assignment 9: Method minimum"
      ]
    },
    {
      "cell_type": "markdown",
      "metadata": {
        "id": "b3nSuU6U-AnF"
      },
      "source": [
        "Extend with a new method `find_min(data)`, which returns the minimum value of the numbers in the parameter `data`. Remember to introduce extra printing-sentences for this."
      ]
    },
    {
      "cell_type": "code",
      "execution_count": 5,
      "metadata": {
        "id": "WVaG6D8xAMVd"
      },
      "outputs": [],
      "source": []
    },
    {
      "cell_type": "code",
      "execution_count": 5,
      "metadata": {
        "id": "_iaaVEpNAgBd"
      },
      "outputs": [],
      "source": []
    },
    {
      "cell_type": "markdown",
      "metadata": {
        "id": "U84_5tF_A8h_"
      },
      "source": [
        "### Assignment 10: Method Sum"
      ]
    },
    {
      "cell_type": "markdown",
      "metadata": {
        "id": "aWT7usjIBDn1"
      },
      "source": [
        "Extend with a new method `find_sum(data)`, which returns the sum value of the numbers in the array parameter `data`."
      ]
    },
    {
      "cell_type": "code",
      "execution_count": 5,
      "metadata": {
        "id": "KjS1soZDBo5G"
      },
      "outputs": [],
      "source": [
        "data = [1, 3, 5]"
      ]
    },
    {
      "cell_type": "code",
      "execution_count": 5,
      "metadata": {
        "id": "2w85adABCfL9"
      },
      "outputs": [],
      "source": []
    },
    {
      "cell_type": "markdown",
      "metadata": {
        "id": "DopL4h0xDC0M"
      },
      "source": [
        "### Assignment 11: Average"
      ]
    },
    {
      "cell_type": "markdown",
      "metadata": {
        "id": "81nYWP4lDLgm"
      },
      "source": [
        "Extend with a new method `average(data)`, which returns the average of all numbers in the list. Utilize `find_sum` method from previous assignment."
      ]
    },
    {
      "cell_type": "code",
      "execution_count": 5,
      "metadata": {
        "id": "r1pty2oBDaD9"
      },
      "outputs": [],
      "source": []
    },
    {
      "cell_type": "code",
      "execution_count": 5,
      "metadata": {
        "id": "Pp0kr7yRDxM2"
      },
      "outputs": [],
      "source": []
    },
    {
      "cell_type": "markdown",
      "metadata": {
        "id": "9H6HeO1VEMpQ"
      },
      "source": [
        "Assignment X: The 5 highest numbers"
      ]
    },
    {
      "cell_type": "markdown",
      "metadata": {
        "id": "EudukSrbEOnG"
      },
      "source": [
        "How to find the 5 highest numbers in a list. How to return this from a method.\n",
        "Or maybe you can make it flexible so it can be any highest numbers like 6 or 11 etc."
      ]
    },
    {
      "cell_type": "code",
      "execution_count": 5,
      "metadata": {
        "id": "uw7LiKJuEYkQ"
      },
      "outputs": [],
      "source": [
        "\n"
      ]
    }
  ],
  "metadata": {
    "colab": {
      "authorship_tag": "ABX9TyMy6gl/bWhVJqCXRBAYW8UW",
      "include_colab_link": true,
      "provenance": []
    },
    "kernelspec": {
      "display_name": "Python 3",
      "name": "python3"
    },
    "language_info": {
      "codemirror_mode": {
        "name": "ipython",
        "version": 3
      },
      "file_extension": ".py",
      "mimetype": "text/x-python",
      "name": "python",
      "nbconvert_exporter": "python",
      "pygments_lexer": "ipython3",
      "version": "3.13.1"
    }
  },
  "nbformat": 4,
  "nbformat_minor": 0
}
