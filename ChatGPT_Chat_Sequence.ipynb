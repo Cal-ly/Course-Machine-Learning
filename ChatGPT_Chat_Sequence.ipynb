{
  "nbformat": 4,
  "nbformat_minor": 0,
  "metadata": {
    "colab": {
      "provenance": [],
      "authorship_tag": "ABX9TyN3eJ/BGOtNA+9h95nW4yfS",
      "include_colab_link": true
    },
    "kernelspec": {
      "name": "python3",
      "display_name": "Python 3"
    },
    "language_info": {
      "name": "python"
    }
  },
  "cells": [
    {
      "cell_type": "markdown",
      "metadata": {
        "id": "view-in-github",
        "colab_type": "text"
      },
      "source": [
        "<a href=\"https://colab.research.google.com/github/jpandersen61/Machine-Learning/blob/main/ChatGPT_Chat_Sequence.ipynb\" target=\"_parent\"><img src=\"https://colab.research.google.com/assets/colab-badge.svg\" alt=\"Open In Colab\"/></a>"
      ]
    },
    {
      "cell_type": "markdown",
      "source": [
        "#Install OpenAI components"
      ],
      "metadata": {
        "id": "bmZomqAqUet4"
      }
    },
    {
      "cell_type": "code",
      "execution_count": 1,
      "metadata": {
        "colab": {
          "base_uri": "https://localhost:8080/"
        },
        "id": "WMZtZ_fFULYL",
        "outputId": "309a02b8-1fac-41b5-bc7c-1488e2b2fc2d"
      },
      "outputs": [
        {
          "output_type": "stream",
          "name": "stdout",
          "text": [
            "Requirement already satisfied: openai in /usr/local/lib/python3.10/dist-packages (1.50.2)\n",
            "Requirement already satisfied: anyio<5,>=3.5.0 in /usr/local/lib/python3.10/dist-packages (from openai) (3.7.1)\n",
            "Requirement already satisfied: distro<2,>=1.7.0 in /usr/lib/python3/dist-packages (from openai) (1.7.0)\n",
            "Requirement already satisfied: httpx<1,>=0.23.0 in /usr/local/lib/python3.10/dist-packages (from openai) (0.27.2)\n",
            "Requirement already satisfied: jiter<1,>=0.4.0 in /usr/local/lib/python3.10/dist-packages (from openai) (0.5.0)\n",
            "Requirement already satisfied: pydantic<3,>=1.9.0 in /usr/local/lib/python3.10/dist-packages (from openai) (2.9.2)\n",
            "Requirement already satisfied: sniffio in /usr/local/lib/python3.10/dist-packages (from openai) (1.3.1)\n",
            "Requirement already satisfied: tqdm>4 in /usr/local/lib/python3.10/dist-packages (from openai) (4.66.5)\n",
            "Requirement already satisfied: typing-extensions<5,>=4.11 in /usr/local/lib/python3.10/dist-packages (from openai) (4.12.2)\n",
            "Requirement already satisfied: idna>=2.8 in /usr/local/lib/python3.10/dist-packages (from anyio<5,>=3.5.0->openai) (3.10)\n",
            "Requirement already satisfied: exceptiongroup in /usr/local/lib/python3.10/dist-packages (from anyio<5,>=3.5.0->openai) (1.2.2)\n",
            "Requirement already satisfied: certifi in /usr/local/lib/python3.10/dist-packages (from httpx<1,>=0.23.0->openai) (2024.8.30)\n",
            "Requirement already satisfied: httpcore==1.* in /usr/local/lib/python3.10/dist-packages (from httpx<1,>=0.23.0->openai) (1.0.5)\n",
            "Requirement already satisfied: h11<0.15,>=0.13 in /usr/local/lib/python3.10/dist-packages (from httpcore==1.*->httpx<1,>=0.23.0->openai) (0.14.0)\n",
            "Requirement already satisfied: annotated-types>=0.6.0 in /usr/local/lib/python3.10/dist-packages (from pydantic<3,>=1.9.0->openai) (0.7.0)\n",
            "Requirement already satisfied: pydantic-core==2.23.4 in /usr/local/lib/python3.10/dist-packages (from pydantic<3,>=1.9.0->openai) (2.23.4)\n"
          ]
        }
      ],
      "source": [
        "pip install openai\n"
      ]
    },
    {
      "cell_type": "code",
      "source": [
        "pip install python-dotenv"
      ],
      "metadata": {
        "colab": {
          "base_uri": "https://localhost:8080/"
        },
        "id": "dtwUjrS2VbqJ",
        "outputId": "a61d2453-4980-4db6-86fb-41b705896979"
      },
      "execution_count": 2,
      "outputs": [
        {
          "output_type": "stream",
          "name": "stdout",
          "text": [
            "Requirement already satisfied: python-dotenv in /usr/local/lib/python3.10/dist-packages (1.0.1)\n"
          ]
        }
      ]
    },
    {
      "cell_type": "markdown",
      "source": [
        "#Mount Google Drive"
      ],
      "metadata": {
        "id": "LiVhUlZfVsRP"
      }
    },
    {
      "cell_type": "code",
      "source": [
        "from google.colab import drive\n",
        "drive.mount('/content/drive')"
      ],
      "metadata": {
        "colab": {
          "base_uri": "https://localhost:8080/"
        },
        "id": "ERwSE0yEV4Rs",
        "outputId": "46fb59f7-ec6c-49dc-bbbd-6114bba70afa"
      },
      "execution_count": 3,
      "outputs": [
        {
          "output_type": "stream",
          "name": "stdout",
          "text": [
            "Drive already mounted at /content/drive; to attempt to forcibly remount, call drive.mount(\"/content/drive\", force_remount=True).\n"
          ]
        }
      ]
    },
    {
      "cell_type": "markdown",
      "source": [
        "#Load .env file"
      ],
      "metadata": {
        "id": "cc3ly5uAWIYc"
      }
    },
    {
      "cell_type": "code",
      "source": [
        "from dotenv import load_dotenv\n",
        "load_dotenv('drive/My Drive/Colab Notebooks/.env')"
      ],
      "metadata": {
        "colab": {
          "base_uri": "https://localhost:8080/"
        },
        "id": "m5ycZHwQWNan",
        "outputId": "0ac514e1-86a6-4364-8cc9-891e7beb1216"
      },
      "execution_count": 4,
      "outputs": [
        {
          "output_type": "execute_result",
          "data": {
            "text/plain": [
              "True"
            ]
          },
          "metadata": {},
          "execution_count": 4
        }
      ]
    },
    {
      "cell_type": "markdown",
      "source": [
        "#Initialize Open AI clinet"
      ],
      "metadata": {
        "id": "uWB5Q5NqXCYm"
      }
    },
    {
      "cell_type": "code",
      "source": [
        "from openai import OpenAI as openai\n",
        "import os\n",
        "openai.api_key = os.getenv(\"OPENAI_API_KEY\")\n",
        "openai.api_key\n",
        "client = openai()"
      ],
      "metadata": {
        "id": "NRygMPIVXDzp"
      },
      "execution_count": 5,
      "outputs": []
    },
    {
      "cell_type": "markdown",
      "source": [
        "#Various variables"
      ],
      "metadata": {
        "id": "rerQJqKxX_i0"
      }
    },
    {
      "cell_type": "code",
      "source": [
        "gptModel=\"gpt-4o-mini\""
      ],
      "metadata": {
        "id": "WmrMIHu-ZwNb"
      },
      "execution_count": 6,
      "outputs": []
    },
    {
      "cell_type": "markdown",
      "source": [
        "#1st prompt"
      ],
      "metadata": {
        "id": "A4nb_Yj2Z_1s"
      }
    },
    {
      "cell_type": "code",
      "source": [
        "InitialSystemContent = \"You are a helpful teacher.\"\n"
      ],
      "metadata": {
        "id": "qGt6k0aqYxCt"
      },
      "execution_count": 7,
      "outputs": []
    },
    {
      "cell_type": "code",
      "source": [
        "FirstUserContent = \"Are there other measures than time complexity for an algorithm?\""
      ],
      "metadata": {
        "id": "3Q13yuwTY4zt"
      },
      "execution_count": 8,
      "outputs": []
    },
    {
      "cell_type": "code",
      "source": [
        "chatMessages=[\n",
        "    {\n",
        "        \"role\": \"system\", \"content\": InitialSystemContent\n",
        "    },\n",
        "    {\n",
        "        \"role\": \"user\",\n",
        "        \"content\": FirstUserContent,\n",
        "    },\n",
        "]"
      ],
      "metadata": {
        "id": "WL5KOl_KZUFB"
      },
      "execution_count": 9,
      "outputs": []
    },
    {
      "cell_type": "code",
      "source": [
        "print(chatMessages)"
      ],
      "metadata": {
        "colab": {
          "base_uri": "https://localhost:8080/"
        },
        "id": "vgSDj-dyaVNe",
        "outputId": "0c0ccdb1-0323-4d0d-dadc-e488065b7bd8"
      },
      "execution_count": 10,
      "outputs": [
        {
          "output_type": "stream",
          "name": "stdout",
          "text": [
            "[{'role': 'system', 'content': 'You are a helpful teacher.'}, {'role': 'user', 'content': 'Are there other measures than time complexity for an algorithm?'}]\n"
          ]
        }
      ]
    },
    {
      "cell_type": "code",
      "source": [
        "response = client.chat.completions.create(model=gptModel, messages=chatMessages)"
      ],
      "metadata": {
        "id": "EeCD7AUFZlrV"
      },
      "execution_count": 11,
      "outputs": []
    },
    {
      "cell_type": "code",
      "source": [
        "FirstAssistantContent = response.choices[0].message.content\n",
        "#Force assitant message be something:  FirstAssistantContent = \"Yes, there are other measures besides time complexfor an algorithm, such as space complexity.\"\n"
      ],
      "metadata": {
        "id": "aSHZU_1mbPJu"
      },
      "execution_count": 12,
      "outputs": []
    },
    {
      "cell_type": "code",
      "source": [
        "print(FirstAssistantContent)"
      ],
      "metadata": {
        "colab": {
          "base_uri": "https://localhost:8080/"
        },
        "collapsed": true,
        "id": "7ppulUHVbb1W",
        "outputId": "bf87afc5-4255-4ea7-8d65-cffcaa964c87"
      },
      "execution_count": 13,
      "outputs": [
        {
          "output_type": "stream",
          "name": "stdout",
          "text": [
            "Yes, in addition to time complexity, there are several other measures that can be used to evaluate the efficiency and effectiveness of an algorithm. Here are some key metrics:\n",
            "\n",
            "1. **Space Complexity**: This measures the amount of memory an algorithm uses relative to the input size. It helps in understanding how much extra storage is needed in addition to the input data.\n",
            "\n",
            "2. **Input/Output Complexity**: This relates to the efficiency of reading input data and producing output data. For example, in algorithms that deal with large datasets, the time it takes to read from or write to a disk can be significant.\n",
            "\n",
            "3. **Network Complexity**: In distributed systems, this can refer to the amount of data transmitted over the network and the time latency involved in communication between nodes.\n",
            "\n",
            "4. **Parallelizability**: This assesses how well an algorithm can be parallelized, i.e., how effectively it can leverage multiple processors or cores to decrease execution time.\n",
            "\n",
            "5. **Stability**: Particularly in sorting algorithms, stability refers to whether the algorithm maintains the relative order of records with equal keys.\n",
            "\n",
            "6. **Scalability**: This measures how well an algorithm performs as the size of the input grows. An algorithm that works efficiently for small datasets might not perform well for larger datasets.\n",
            "\n",
            "7. **Robustness**: This assesses how well an algorithm can handle unexpected input or errors without failing.\n",
            "\n",
            "8. **Maintainability**: This considers how easy it is to modify or extend an algorithm. Code that is easy to read and understand typically has a higher maintainability score.\n",
            "\n",
            "9. **Adaptability**: This refers to how flexible an algorithm is to changes in the input or environment. The ability to adjust to new constraints or requirements is an important aspect of many algorithms.\n",
            "\n",
            "10. **Fault Tolerance**: In many applications, especially in distributed systems, the ability of an algorithm to continue operating even when some components fail is critical.\n",
            "\n",
            "Each of these metrics can give valuable insights into the performance and suitability of an algorithm for a particular application or environment. When evaluating algorithms, it's essential to consider a combination of these factors rather than focusing solely on time complexity.\n"
          ]
        }
      ]
    },
    {
      "cell_type": "markdown",
      "source": [
        "#2nd prompt"
      ],
      "metadata": {
        "id": "RFqIPlLuflNM"
      }
    },
    {
      "cell_type": "code",
      "source": [
        "SecondUserContent = \"What is it?\""
      ],
      "metadata": {
        "id": "r_RsKgpPfqEq"
      },
      "execution_count": 14,
      "outputs": []
    },
    {
      "cell_type": "code",
      "source": [
        "chatMessages=[\n",
        "    {\n",
        "        \"role\": \"system\", \"content\": InitialSystemContent\n",
        "    },\n",
        "    {\n",
        "        \"role\": \"user\",\n",
        "        \"content\": FirstUserContent,\n",
        "    },\n",
        "    {\n",
        "        \"role\": \"assistant\",\n",
        "        \"content\": FirstAssistantContent,\n",
        "    },\n",
        "    {\n",
        "        \"role\": \"user\",\n",
        "        \"content\": SecondUserContent,\n",
        "    },\n",
        "]"
      ],
      "metadata": {
        "id": "ZvDPMcZegS4h"
      },
      "execution_count": 15,
      "outputs": []
    },
    {
      "cell_type": "code",
      "source": [
        "type(chatMessages)"
      ],
      "metadata": {
        "colab": {
          "base_uri": "https://localhost:8080/"
        },
        "id": "xmAFKFkGhK5X",
        "outputId": "88bbd940-932d-4ffc-fdcf-7f0b246b8fa3"
      },
      "execution_count": 16,
      "outputs": [
        {
          "output_type": "execute_result",
          "data": {
            "text/plain": [
              "list"
            ]
          },
          "metadata": {},
          "execution_count": 16
        }
      ]
    },
    {
      "cell_type": "code",
      "source": [
        "print(chatMessages)"
      ],
      "metadata": {
        "colab": {
          "base_uri": "https://localhost:8080/"
        },
        "id": "_MNGcNulhYNy",
        "outputId": "bdd641e1-3426-45a8-f45b-0d8707281a9b"
      },
      "execution_count": 17,
      "outputs": [
        {
          "output_type": "stream",
          "name": "stdout",
          "text": [
            "[{'role': 'system', 'content': 'You are a helpful teacher.'}, {'role': 'user', 'content': 'Are there other measures than time complexity for an algorithm?'}, {'role': 'assistant', 'content': \"Yes, in addition to time complexity, there are several other measures that can be used to evaluate the efficiency and effectiveness of an algorithm. Here are some key metrics:\\n\\n1. **Space Complexity**: This measures the amount of memory an algorithm uses relative to the input size. It helps in understanding how much extra storage is needed in addition to the input data.\\n\\n2. **Input/Output Complexity**: This relates to the efficiency of reading input data and producing output data. For example, in algorithms that deal with large datasets, the time it takes to read from or write to a disk can be significant.\\n\\n3. **Network Complexity**: In distributed systems, this can refer to the amount of data transmitted over the network and the time latency involved in communication between nodes.\\n\\n4. **Parallelizability**: This assesses how well an algorithm can be parallelized, i.e., how effectively it can leverage multiple processors or cores to decrease execution time.\\n\\n5. **Stability**: Particularly in sorting algorithms, stability refers to whether the algorithm maintains the relative order of records with equal keys.\\n\\n6. **Scalability**: This measures how well an algorithm performs as the size of the input grows. An algorithm that works efficiently for small datasets might not perform well for larger datasets.\\n\\n7. **Robustness**: This assesses how well an algorithm can handle unexpected input or errors without failing.\\n\\n8. **Maintainability**: This considers how easy it is to modify or extend an algorithm. Code that is easy to read and understand typically has a higher maintainability score.\\n\\n9. **Adaptability**: This refers to how flexible an algorithm is to changes in the input or environment. The ability to adjust to new constraints or requirements is an important aspect of many algorithms.\\n\\n10. **Fault Tolerance**: In many applications, especially in distributed systems, the ability of an algorithm to continue operating even when some components fail is critical.\\n\\nEach of these metrics can give valuable insights into the performance and suitability of an algorithm for a particular application or environment. When evaluating algorithms, it's essential to consider a combination of these factors rather than focusing solely on time complexity.\"}, {'role': 'user', 'content': 'What is it?'}]\n"
          ]
        }
      ]
    },
    {
      "cell_type": "code",
      "source": [
        "response = client.chat.completions.create(model=gptModel, messages=chatMessages)"
      ],
      "metadata": {
        "id": "XCQaA_8chjk-"
      },
      "execution_count": 18,
      "outputs": []
    },
    {
      "cell_type": "code",
      "source": [
        "SecondAssistantContent = response.choices[0].message.content\n",
        "#Force assitant message be something: SecondAssistantContent = \"<something>\""
      ],
      "metadata": {
        "id": "io-1QG3jhq_l"
      },
      "execution_count": 19,
      "outputs": []
    },
    {
      "cell_type": "code",
      "source": [
        "print(SecondAssistantContent)"
      ],
      "metadata": {
        "colab": {
          "base_uri": "https://localhost:8080/"
        },
        "id": "qJeh1LFthwQk",
        "outputId": "26d88044-4edc-44b5-9cf3-dc740158783f"
      },
      "execution_count": 20,
      "outputs": [
        {
          "output_type": "stream",
          "name": "stdout",
          "text": [
            "Could you please clarify your question? Are you asking about a specific term related to algorithms, or would you like a brief overview or description of one of the metrics mentioned earlier? Your clarification will help me provide a more accurate answer.\n"
          ]
        }
      ]
    },
    {
      "cell_type": "markdown",
      "source": [
        "#3rd prompt"
      ],
      "metadata": {
        "id": "n1OwZfAhkuBv"
      }
    },
    {
      "cell_type": "code",
      "source": [
        "ThirdUserContent = \"<some content>\""
      ],
      "metadata": {
        "id": "oJLEhjbSk8gE"
      },
      "execution_count": 21,
      "outputs": []
    },
    {
      "cell_type": "code",
      "source": [
        "chatMessages=[\n",
        "    {\n",
        "        \"role\": \"system\", \"content\": InitialSystemContent\n",
        "    },\n",
        "    {\n",
        "        \"role\": \"user\",\n",
        "        \"content\": FirstUserContent,\n",
        "    },\n",
        "    {\n",
        "        \"role\": \"assistant\",\n",
        "        \"content\": FirstAssistantContent,\n",
        "    },\n",
        "    {\n",
        "        \"role\": \"user\",\n",
        "        \"content\": SecondUserContent,\n",
        "    },\n",
        "    {\n",
        "        \"role\": \"assistant\",\n",
        "        \"content\": SecondAssistantContent,\n",
        "    },\n",
        "    {\n",
        "        \"role\": \"user\",\n",
        "        \"content\": ThirdUserContent,\n",
        "    },\n",
        "]"
      ],
      "metadata": {
        "id": "IgcFKH1YlOu4"
      },
      "execution_count": 22,
      "outputs": []
    },
    {
      "cell_type": "code",
      "source": [
        "print(chatMessages)"
      ],
      "metadata": {
        "colab": {
          "base_uri": "https://localhost:8080/"
        },
        "id": "hUY_FAiblngZ",
        "outputId": "2cbca4df-b7da-4aab-9665-f438fb06afc0"
      },
      "execution_count": 23,
      "outputs": [
        {
          "output_type": "stream",
          "name": "stdout",
          "text": [
            "[{'role': 'system', 'content': 'You are a helpful teacher.'}, {'role': 'user', 'content': 'Are there other measures than time complexity for an algorithm?'}, {'role': 'assistant', 'content': \"Yes, in addition to time complexity, there are several other measures that can be used to evaluate the efficiency and effectiveness of an algorithm. Here are some key metrics:\\n\\n1. **Space Complexity**: This measures the amount of memory an algorithm uses relative to the input size. It helps in understanding how much extra storage is needed in addition to the input data.\\n\\n2. **Input/Output Complexity**: This relates to the efficiency of reading input data and producing output data. For example, in algorithms that deal with large datasets, the time it takes to read from or write to a disk can be significant.\\n\\n3. **Network Complexity**: In distributed systems, this can refer to the amount of data transmitted over the network and the time latency involved in communication between nodes.\\n\\n4. **Parallelizability**: This assesses how well an algorithm can be parallelized, i.e., how effectively it can leverage multiple processors or cores to decrease execution time.\\n\\n5. **Stability**: Particularly in sorting algorithms, stability refers to whether the algorithm maintains the relative order of records with equal keys.\\n\\n6. **Scalability**: This measures how well an algorithm performs as the size of the input grows. An algorithm that works efficiently for small datasets might not perform well for larger datasets.\\n\\n7. **Robustness**: This assesses how well an algorithm can handle unexpected input or errors without failing.\\n\\n8. **Maintainability**: This considers how easy it is to modify or extend an algorithm. Code that is easy to read and understand typically has a higher maintainability score.\\n\\n9. **Adaptability**: This refers to how flexible an algorithm is to changes in the input or environment. The ability to adjust to new constraints or requirements is an important aspect of many algorithms.\\n\\n10. **Fault Tolerance**: In many applications, especially in distributed systems, the ability of an algorithm to continue operating even when some components fail is critical.\\n\\nEach of these metrics can give valuable insights into the performance and suitability of an algorithm for a particular application or environment. When evaluating algorithms, it's essential to consider a combination of these factors rather than focusing solely on time complexity.\"}, {'role': 'user', 'content': 'What is it?'}, {'role': 'assistant', 'content': 'Could you please clarify your question? Are you asking about a specific term related to algorithms, or would you like a brief overview or description of one of the metrics mentioned earlier? Your clarification will help me provide a more accurate answer.'}, {'role': 'user', 'content': '<some content>'}]\n"
          ]
        }
      ]
    },
    {
      "cell_type": "code",
      "source": [
        "response = client.chat.completions.create(model=gptModel, messages=chatMessages)"
      ],
      "metadata": {
        "id": "dxvc-yxCl1--"
      },
      "execution_count": 24,
      "outputs": []
    },
    {
      "cell_type": "code",
      "source": [
        "ThirdAssistantContent = response.choices[0].message.content\n",
        "#Force assitant message be something: ThirdAssistantContent = \"<something>\""
      ],
      "metadata": {
        "id": "qrluUrmfmC7I"
      },
      "execution_count": 25,
      "outputs": []
    },
    {
      "cell_type": "code",
      "source": [
        "print(ThirdAssistantContent)"
      ],
      "metadata": {
        "colab": {
          "base_uri": "https://localhost:8080/"
        },
        "id": "QFjLzydvmOmb",
        "outputId": "00232f6a-079f-46c2-ab24-ac435356a641"
      },
      "execution_count": 26,
      "outputs": [
        {
          "output_type": "stream",
          "name": "stdout",
          "text": [
            "It seems that your message might have been cut off or is incomplete. If you could provide more details or context about what you are looking for, I would be happy to help! Please clarify your question or provide the content you want to discuss.\n"
          ]
        }
      ]
    }
  ]
}